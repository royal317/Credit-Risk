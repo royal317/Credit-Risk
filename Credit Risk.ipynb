{
 "cells": [
  {
   "cell_type": "code",
   "execution_count": 280,
   "id": "79a812b4",
   "metadata": {},
   "outputs": [],
   "source": [
    "import pandas as pd\n",
    "import numpy as np\n",
    "\n",
    "#Visualization packaes\n",
    "import matplotlib.pyplot as plt\n",
    "import seaborn as sns\n",
    "import seaborn as sb\n",
    "\n",
    "#Machine learning\n",
    "from imblearn.under_sampling import RandomUnderSampler\n",
    "from sklearn.preprocessing import LabelEncoder, StandardScaler, MinMaxScaler\n",
    "from sklearn.model_selection import train_test_split\n",
    "from sklearn.linear_model import LogisticRegression\n",
    "from sklearn.ensemble import RandomForestClassifier\n",
    "from sklearn.metrics import accuracy_score, classification_report, confusion_matrix\n",
    "from sklearn.metrics import precision_score,recall_score, f1_score\n",
    "from imblearn.over_sampling import SMOTE\n",
    "from collections import Counter"
   ]
  },
  {
   "cell_type": "code",
   "execution_count": 281,
   "id": "bbb85007",
   "metadata": {},
   "outputs": [],
   "source": [
    "df = pd.read_csv('data.csv')"
   ]
  },
  {
   "cell_type": "code",
   "execution_count": 282,
   "id": "56129406",
   "metadata": {},
   "outputs": [
    {
     "data": {
      "text/html": [
       "<div>\n",
       "<style scoped>\n",
       "    .dataframe tbody tr th:only-of-type {\n",
       "        vertical-align: middle;\n",
       "    }\n",
       "\n",
       "    .dataframe tbody tr th {\n",
       "        vertical-align: top;\n",
       "    }\n",
       "\n",
       "    .dataframe thead th {\n",
       "        text-align: right;\n",
       "    }\n",
       "</style>\n",
       "<table border=\"1\" class=\"dataframe\">\n",
       "  <thead>\n",
       "    <tr style=\"text-align: right;\">\n",
       "      <th></th>\n",
       "      <th>person_age</th>\n",
       "      <th>person_income</th>\n",
       "      <th>person_home_ownership</th>\n",
       "      <th>person_emp_length</th>\n",
       "      <th>loan_intent</th>\n",
       "      <th>loan_grade</th>\n",
       "      <th>loan_amnt</th>\n",
       "      <th>loan_int_rate</th>\n",
       "      <th>loan_status</th>\n",
       "      <th>loan_percent_income</th>\n",
       "      <th>cb_person_default_on_file</th>\n",
       "      <th>cb_person_cred_hist_length</th>\n",
       "    </tr>\n",
       "  </thead>\n",
       "  <tbody>\n",
       "    <tr>\n",
       "      <th>0</th>\n",
       "      <td>22</td>\n",
       "      <td>59000</td>\n",
       "      <td>RENT</td>\n",
       "      <td>123.0</td>\n",
       "      <td>PERSONAL</td>\n",
       "      <td>D</td>\n",
       "      <td>35000</td>\n",
       "      <td>16.02</td>\n",
       "      <td>1</td>\n",
       "      <td>0.59</td>\n",
       "      <td>Y</td>\n",
       "      <td>3</td>\n",
       "    </tr>\n",
       "    <tr>\n",
       "      <th>1</th>\n",
       "      <td>21</td>\n",
       "      <td>9600</td>\n",
       "      <td>OWN</td>\n",
       "      <td>5.0</td>\n",
       "      <td>EDUCATION</td>\n",
       "      <td>B</td>\n",
       "      <td>1000</td>\n",
       "      <td>11.14</td>\n",
       "      <td>0</td>\n",
       "      <td>0.10</td>\n",
       "      <td>N</td>\n",
       "      <td>2</td>\n",
       "    </tr>\n",
       "    <tr>\n",
       "      <th>2</th>\n",
       "      <td>25</td>\n",
       "      <td>9600</td>\n",
       "      <td>MORTGAGE</td>\n",
       "      <td>1.0</td>\n",
       "      <td>MEDICAL</td>\n",
       "      <td>C</td>\n",
       "      <td>5500</td>\n",
       "      <td>12.87</td>\n",
       "      <td>1</td>\n",
       "      <td>0.57</td>\n",
       "      <td>N</td>\n",
       "      <td>3</td>\n",
       "    </tr>\n",
       "    <tr>\n",
       "      <th>3</th>\n",
       "      <td>23</td>\n",
       "      <td>65500</td>\n",
       "      <td>RENT</td>\n",
       "      <td>4.0</td>\n",
       "      <td>MEDICAL</td>\n",
       "      <td>C</td>\n",
       "      <td>35000</td>\n",
       "      <td>15.23</td>\n",
       "      <td>1</td>\n",
       "      <td>0.53</td>\n",
       "      <td>N</td>\n",
       "      <td>2</td>\n",
       "    </tr>\n",
       "    <tr>\n",
       "      <th>4</th>\n",
       "      <td>24</td>\n",
       "      <td>54400</td>\n",
       "      <td>RENT</td>\n",
       "      <td>8.0</td>\n",
       "      <td>MEDICAL</td>\n",
       "      <td>C</td>\n",
       "      <td>35000</td>\n",
       "      <td>14.27</td>\n",
       "      <td>1</td>\n",
       "      <td>0.55</td>\n",
       "      <td>Y</td>\n",
       "      <td>4</td>\n",
       "    </tr>\n",
       "    <tr>\n",
       "      <th>...</th>\n",
       "      <td>...</td>\n",
       "      <td>...</td>\n",
       "      <td>...</td>\n",
       "      <td>...</td>\n",
       "      <td>...</td>\n",
       "      <td>...</td>\n",
       "      <td>...</td>\n",
       "      <td>...</td>\n",
       "      <td>...</td>\n",
       "      <td>...</td>\n",
       "      <td>...</td>\n",
       "      <td>...</td>\n",
       "    </tr>\n",
       "    <tr>\n",
       "      <th>3994</th>\n",
       "      <td>22</td>\n",
       "      <td>53285</td>\n",
       "      <td>RENT</td>\n",
       "      <td>0.0</td>\n",
       "      <td>EDUCATION</td>\n",
       "      <td>A</td>\n",
       "      <td>4000</td>\n",
       "      <td>7.90</td>\n",
       "      <td>0</td>\n",
       "      <td>0.08</td>\n",
       "      <td>N</td>\n",
       "      <td>4</td>\n",
       "    </tr>\n",
       "    <tr>\n",
       "      <th>3995</th>\n",
       "      <td>24</td>\n",
       "      <td>53636</td>\n",
       "      <td>RENT</td>\n",
       "      <td>8.0</td>\n",
       "      <td>EDUCATION</td>\n",
       "      <td>B</td>\n",
       "      <td>4000</td>\n",
       "      <td>10.62</td>\n",
       "      <td>0</td>\n",
       "      <td>0.07</td>\n",
       "      <td>N</td>\n",
       "      <td>2</td>\n",
       "    </tr>\n",
       "    <tr>\n",
       "      <th>3996</th>\n",
       "      <td>23</td>\n",
       "      <td>48000</td>\n",
       "      <td>RENT</td>\n",
       "      <td>8.0</td>\n",
       "      <td>PERSONAL</td>\n",
       "      <td>B</td>\n",
       "      <td>4000</td>\n",
       "      <td>10.37</td>\n",
       "      <td>1</td>\n",
       "      <td>0.08</td>\n",
       "      <td>N</td>\n",
       "      <td>3</td>\n",
       "    </tr>\n",
       "    <tr>\n",
       "      <th>3997</th>\n",
       "      <td>25</td>\n",
       "      <td>54000</td>\n",
       "      <td>RENT</td>\n",
       "      <td>2.0</td>\n",
       "      <td>EDUCATION</td>\n",
       "      <td>B</td>\n",
       "      <td>4000</td>\n",
       "      <td>11.89</td>\n",
       "      <td>0</td>\n",
       "      <td>0.07</td>\n",
       "      <td>N</td>\n",
       "      <td>2</td>\n",
       "    </tr>\n",
       "    <tr>\n",
       "      <th>3998</th>\n",
       "      <td>26</td>\n",
       "      <td>54996</td>\n",
       "      <td>RENT</td>\n",
       "      <td>0.0</td>\n",
       "      <td>PERSONAL</td>\n",
       "      <td>A</td>\n",
       "      <td>4000</td>\n",
       "      <td>7.51</td>\n",
       "      <td>0</td>\n",
       "      <td>0.07</td>\n",
       "      <td>N</td>\n",
       "      <td>4</td>\n",
       "    </tr>\n",
       "  </tbody>\n",
       "</table>\n",
       "<p>3999 rows × 12 columns</p>\n",
       "</div>"
      ],
      "text/plain": [
       "      person_age  person_income person_home_ownership  person_emp_length  \\\n",
       "0             22          59000                  RENT              123.0   \n",
       "1             21           9600                   OWN                5.0   \n",
       "2             25           9600              MORTGAGE                1.0   \n",
       "3             23          65500                  RENT                4.0   \n",
       "4             24          54400                  RENT                8.0   \n",
       "...          ...            ...                   ...                ...   \n",
       "3994          22          53285                  RENT                0.0   \n",
       "3995          24          53636                  RENT                8.0   \n",
       "3996          23          48000                  RENT                8.0   \n",
       "3997          25          54000                  RENT                2.0   \n",
       "3998          26          54996                  RENT                0.0   \n",
       "\n",
       "     loan_intent loan_grade  loan_amnt  loan_int_rate  loan_status  \\\n",
       "0       PERSONAL          D      35000          16.02            1   \n",
       "1      EDUCATION          B       1000          11.14            0   \n",
       "2        MEDICAL          C       5500          12.87            1   \n",
       "3        MEDICAL          C      35000          15.23            1   \n",
       "4        MEDICAL          C      35000          14.27            1   \n",
       "...          ...        ...        ...            ...          ...   \n",
       "3994   EDUCATION          A       4000           7.90            0   \n",
       "3995   EDUCATION          B       4000          10.62            0   \n",
       "3996    PERSONAL          B       4000          10.37            1   \n",
       "3997   EDUCATION          B       4000          11.89            0   \n",
       "3998    PERSONAL          A       4000           7.51            0   \n",
       "\n",
       "      loan_percent_income cb_person_default_on_file  \\\n",
       "0                    0.59                         Y   \n",
       "1                    0.10                         N   \n",
       "2                    0.57                         N   \n",
       "3                    0.53                         N   \n",
       "4                    0.55                         Y   \n",
       "...                   ...                       ...   \n",
       "3994                 0.08                         N   \n",
       "3995                 0.07                         N   \n",
       "3996                 0.08                         N   \n",
       "3997                 0.07                         N   \n",
       "3998                 0.07                         N   \n",
       "\n",
       "      cb_person_cred_hist_length  \n",
       "0                              3  \n",
       "1                              2  \n",
       "2                              3  \n",
       "3                              2  \n",
       "4                              4  \n",
       "...                          ...  \n",
       "3994                           4  \n",
       "3995                           2  \n",
       "3996                           3  \n",
       "3997                           2  \n",
       "3998                           4  \n",
       "\n",
       "[3999 rows x 12 columns]"
      ]
     },
     "execution_count": 282,
     "metadata": {},
     "output_type": "execute_result"
    }
   ],
   "source": [
    "df"
   ]
  },
  {
   "cell_type": "code",
   "execution_count": 283,
   "id": "fee3e37f",
   "metadata": {},
   "outputs": [
    {
     "data": {
      "text/plain": [
       "(3999, 12)"
      ]
     },
     "execution_count": 283,
     "metadata": {},
     "output_type": "execute_result"
    }
   ],
   "source": [
    "df.shape"
   ]
  },
  {
   "cell_type": "markdown",
   "id": "483af442",
   "metadata": {},
   "source": [
    "# Exploratory Analysis"
   ]
  },
  {
   "cell_type": "code",
   "execution_count": 284,
   "id": "18502ccb",
   "metadata": {},
   "outputs": [
    {
     "name": "stdout",
     "output_type": "stream",
     "text": [
      "<class 'pandas.core.frame.DataFrame'>\n",
      "RangeIndex: 3999 entries, 0 to 3998\n",
      "Data columns (total 12 columns):\n",
      " #   Column                      Non-Null Count  Dtype  \n",
      "---  ------                      --------------  -----  \n",
      " 0   person_age                  3999 non-null   int64  \n",
      " 1   person_income               3999 non-null   int64  \n",
      " 2   person_home_ownership       3999 non-null   object \n",
      " 3   person_emp_length           3828 non-null   float64\n",
      " 4   loan_intent                 3999 non-null   object \n",
      " 5   loan_grade                  3999 non-null   object \n",
      " 6   loan_amnt                   3999 non-null   int64  \n",
      " 7   loan_int_rate               3637 non-null   float64\n",
      " 8   loan_status                 3999 non-null   int64  \n",
      " 9   loan_percent_income         3999 non-null   float64\n",
      " 10  cb_person_default_on_file   3999 non-null   object \n",
      " 11  cb_person_cred_hist_length  3999 non-null   int64  \n",
      "dtypes: float64(3), int64(5), object(4)\n",
      "memory usage: 375.0+ KB\n",
      "None\n"
     ]
    }
   ],
   "source": [
    "print(df.info())"
   ]
  },
  {
   "cell_type": "code",
   "execution_count": 285,
   "id": "03fc2b4b",
   "metadata": {},
   "outputs": [
    {
     "name": "stdout",
     "output_type": "stream",
     "text": [
      "Number of numerical features:  8\n"
     ]
    }
   ],
   "source": [
    "numerical_features = ['person_age', 'person_income', 'person_emp_length', 'loan_amnt', 'loan_int_rate',\n",
    "                     'loan_status', 'loan_percent_income', 'cb_person_cred_hist_length']\n",
    "print('Number of numerical features: ', len(numerical_features))"
   ]
  },
  {
   "cell_type": "code",
   "execution_count": 286,
   "id": "138ad86d",
   "metadata": {},
   "outputs": [
    {
     "name": "stdout",
     "output_type": "stream",
     "text": [
      "Number of numerical features:  4\n"
     ]
    }
   ],
   "source": [
    "categorical_features = [x for x in df.columns if (x not in numerical_features and x != 'default')]\n",
    "print('Number of numerical features: ', len(categorical_features))"
   ]
  },
  {
   "cell_type": "code",
   "execution_count": 287,
   "id": "0c129ea4",
   "metadata": {},
   "outputs": [
    {
     "data": {
      "text/html": [
       "<div>\n",
       "<style scoped>\n",
       "    .dataframe tbody tr th:only-of-type {\n",
       "        vertical-align: middle;\n",
       "    }\n",
       "\n",
       "    .dataframe tbody tr th {\n",
       "        vertical-align: top;\n",
       "    }\n",
       "\n",
       "    .dataframe thead th {\n",
       "        text-align: right;\n",
       "    }\n",
       "</style>\n",
       "<table border=\"1\" class=\"dataframe\">\n",
       "  <thead>\n",
       "    <tr style=\"text-align: right;\">\n",
       "      <th></th>\n",
       "      <th>person_age</th>\n",
       "      <th>person_income</th>\n",
       "      <th>person_emp_length</th>\n",
       "      <th>loan_amnt</th>\n",
       "      <th>loan_int_rate</th>\n",
       "      <th>loan_status</th>\n",
       "      <th>loan_percent_income</th>\n",
       "      <th>cb_person_cred_hist_length</th>\n",
       "    </tr>\n",
       "  </thead>\n",
       "  <tbody>\n",
       "    <tr>\n",
       "      <th>count</th>\n",
       "      <td>3999.000000</td>\n",
       "      <td>3999.000000</td>\n",
       "      <td>3828.000000</td>\n",
       "      <td>3999.000000</td>\n",
       "      <td>3637.000000</td>\n",
       "      <td>3999.000000</td>\n",
       "      <td>3999.000000</td>\n",
       "      <td>3999.000000</td>\n",
       "    </tr>\n",
       "    <tr>\n",
       "      <th>mean</th>\n",
       "      <td>23.609652</td>\n",
       "      <td>50445.026007</td>\n",
       "      <td>3.685998</td>\n",
       "      <td>9068.542136</td>\n",
       "      <td>11.335331</td>\n",
       "      <td>0.335584</td>\n",
       "      <td>0.193093</td>\n",
       "      <td>2.995249</td>\n",
       "    </tr>\n",
       "    <tr>\n",
       "      <th>std</th>\n",
       "      <td>3.812438</td>\n",
       "      <td>39328.699843</td>\n",
       "      <td>3.916444</td>\n",
       "      <td>7774.368752</td>\n",
       "      <td>3.230596</td>\n",
       "      <td>0.472253</td>\n",
       "      <td>0.132279</td>\n",
       "      <td>0.817656</td>\n",
       "    </tr>\n",
       "    <tr>\n",
       "      <th>min</th>\n",
       "      <td>20.000000</td>\n",
       "      <td>9600.000000</td>\n",
       "      <td>0.000000</td>\n",
       "      <td>500.000000</td>\n",
       "      <td>5.420000</td>\n",
       "      <td>0.000000</td>\n",
       "      <td>0.010000</td>\n",
       "      <td>2.000000</td>\n",
       "    </tr>\n",
       "    <tr>\n",
       "      <th>25%</th>\n",
       "      <td>22.000000</td>\n",
       "      <td>29903.000000</td>\n",
       "      <td>1.000000</td>\n",
       "      <td>3000.000000</td>\n",
       "      <td>8.590000</td>\n",
       "      <td>0.000000</td>\n",
       "      <td>0.080000</td>\n",
       "      <td>2.000000</td>\n",
       "    </tr>\n",
       "    <tr>\n",
       "      <th>50%</th>\n",
       "      <td>23.000000</td>\n",
       "      <td>38000.000000</td>\n",
       "      <td>3.000000</td>\n",
       "      <td>5000.000000</td>\n",
       "      <td>11.360000</td>\n",
       "      <td>0.000000</td>\n",
       "      <td>0.170000</td>\n",
       "      <td>3.000000</td>\n",
       "    </tr>\n",
       "    <tr>\n",
       "      <th>75%</th>\n",
       "      <td>25.000000</td>\n",
       "      <td>58000.000000</td>\n",
       "      <td>6.000000</td>\n",
       "      <td>15000.000000</td>\n",
       "      <td>13.610000</td>\n",
       "      <td>1.000000</td>\n",
       "      <td>0.280000</td>\n",
       "      <td>4.000000</td>\n",
       "    </tr>\n",
       "    <tr>\n",
       "      <th>max</th>\n",
       "      <td>144.000000</td>\n",
       "      <td>500000.000000</td>\n",
       "      <td>123.000000</td>\n",
       "      <td>35000.000000</td>\n",
       "      <td>21.740000</td>\n",
       "      <td>1.000000</td>\n",
       "      <td>0.830000</td>\n",
       "      <td>4.000000</td>\n",
       "    </tr>\n",
       "  </tbody>\n",
       "</table>\n",
       "</div>"
      ],
      "text/plain": [
       "        person_age  person_income  person_emp_length     loan_amnt  \\\n",
       "count  3999.000000    3999.000000        3828.000000   3999.000000   \n",
       "mean     23.609652   50445.026007           3.685998   9068.542136   \n",
       "std       3.812438   39328.699843           3.916444   7774.368752   \n",
       "min      20.000000    9600.000000           0.000000    500.000000   \n",
       "25%      22.000000   29903.000000           1.000000   3000.000000   \n",
       "50%      23.000000   38000.000000           3.000000   5000.000000   \n",
       "75%      25.000000   58000.000000           6.000000  15000.000000   \n",
       "max     144.000000  500000.000000         123.000000  35000.000000   \n",
       "\n",
       "       loan_int_rate  loan_status  loan_percent_income  \\\n",
       "count    3637.000000  3999.000000          3999.000000   \n",
       "mean       11.335331     0.335584             0.193093   \n",
       "std         3.230596     0.472253             0.132279   \n",
       "min         5.420000     0.000000             0.010000   \n",
       "25%         8.590000     0.000000             0.080000   \n",
       "50%        11.360000     0.000000             0.170000   \n",
       "75%        13.610000     1.000000             0.280000   \n",
       "max        21.740000     1.000000             0.830000   \n",
       "\n",
       "       cb_person_cred_hist_length  \n",
       "count                 3999.000000  \n",
       "mean                     2.995249  \n",
       "std                      0.817656  \n",
       "min                      2.000000  \n",
       "25%                      2.000000  \n",
       "50%                      3.000000  \n",
       "75%                      4.000000  \n",
       "max                      4.000000  "
      ]
     },
     "execution_count": 287,
     "metadata": {},
     "output_type": "execute_result"
    }
   ],
   "source": [
    "df[numerical_features].describe()"
   ]
  },
  {
   "cell_type": "code",
   "execution_count": 288,
   "id": "6c0da4fa",
   "metadata": {},
   "outputs": [
    {
     "data": {
      "text/html": [
       "<div>\n",
       "<style scoped>\n",
       "    .dataframe tbody tr th:only-of-type {\n",
       "        vertical-align: middle;\n",
       "    }\n",
       "\n",
       "    .dataframe tbody tr th {\n",
       "        vertical-align: top;\n",
       "    }\n",
       "\n",
       "    .dataframe thead th {\n",
       "        text-align: right;\n",
       "    }\n",
       "</style>\n",
       "<table border=\"1\" class=\"dataframe\">\n",
       "  <thead>\n",
       "    <tr style=\"text-align: right;\">\n",
       "      <th></th>\n",
       "      <th>person_home_ownership</th>\n",
       "      <th>loan_intent</th>\n",
       "      <th>loan_grade</th>\n",
       "      <th>cb_person_default_on_file</th>\n",
       "    </tr>\n",
       "  </thead>\n",
       "  <tbody>\n",
       "    <tr>\n",
       "      <th>count</th>\n",
       "      <td>3999</td>\n",
       "      <td>3999</td>\n",
       "      <td>3999</td>\n",
       "      <td>3999</td>\n",
       "    </tr>\n",
       "    <tr>\n",
       "      <th>unique</th>\n",
       "      <td>4</td>\n",
       "      <td>6</td>\n",
       "      <td>7</td>\n",
       "      <td>2</td>\n",
       "    </tr>\n",
       "    <tr>\n",
       "      <th>top</th>\n",
       "      <td>RENT</td>\n",
       "      <td>EDUCATION</td>\n",
       "      <td>B</td>\n",
       "      <td>N</td>\n",
       "    </tr>\n",
       "    <tr>\n",
       "      <th>freq</th>\n",
       "      <td>2732</td>\n",
       "      <td>903</td>\n",
       "      <td>1320</td>\n",
       "      <td>3224</td>\n",
       "    </tr>\n",
       "  </tbody>\n",
       "</table>\n",
       "</div>"
      ],
      "text/plain": [
       "       person_home_ownership loan_intent loan_grade cb_person_default_on_file\n",
       "count                   3999        3999       3999                      3999\n",
       "unique                     4           6          7                         2\n",
       "top                     RENT   EDUCATION          B                         N\n",
       "freq                    2732         903       1320                      3224"
      ]
     },
     "execution_count": 288,
     "metadata": {},
     "output_type": "execute_result"
    }
   ],
   "source": [
    "df[categorical_features].describe()"
   ]
  },
  {
   "cell_type": "code",
   "execution_count": 289,
   "id": "ba22693d",
   "metadata": {},
   "outputs": [
    {
     "name": "stdout",
     "output_type": "stream",
     "text": [
      "This dataset have 3999 rows and 12 columns.\n"
     ]
    }
   ],
   "source": [
    "#Dataset size\n",
    "data_rows = df.shape[0]\n",
    "data_colunms = df.shape[1]\n",
    "\n",
    "print(f'This dataset have {data_rows} rows and {data_colunms} columns.')"
   ]
  },
  {
   "cell_type": "code",
   "execution_count": 290,
   "id": "fc7bca1f",
   "metadata": {},
   "outputs": [
    {
     "data": {
      "text/plain": [
       "person_age                      0\n",
       "person_income                   0\n",
       "person_home_ownership           0\n",
       "person_emp_length             171\n",
       "loan_intent                     0\n",
       "loan_grade                      0\n",
       "loan_amnt                       0\n",
       "loan_int_rate                 362\n",
       "loan_status                     0\n",
       "loan_percent_income             0\n",
       "cb_person_default_on_file       0\n",
       "cb_person_cred_hist_length      0\n",
       "dtype: int64"
      ]
     },
     "execution_count": 290,
     "metadata": {},
     "output_type": "execute_result"
    }
   ],
   "source": [
    "df.isna().sum()"
   ]
  },
  {
   "cell_type": "code",
   "execution_count": 291,
   "id": "06a10ac0",
   "metadata": {},
   "outputs": [
    {
     "data": {
      "text/html": [
       "<div>\n",
       "<style scoped>\n",
       "    .dataframe tbody tr th:only-of-type {\n",
       "        vertical-align: middle;\n",
       "    }\n",
       "\n",
       "    .dataframe tbody tr th {\n",
       "        vertical-align: top;\n",
       "    }\n",
       "\n",
       "    .dataframe thead th {\n",
       "        text-align: right;\n",
       "    }\n",
       "</style>\n",
       "<table border=\"1\" class=\"dataframe\">\n",
       "  <thead>\n",
       "    <tr style=\"text-align: right;\">\n",
       "      <th></th>\n",
       "      <th>person_age</th>\n",
       "      <th>person_income</th>\n",
       "      <th>person_emp_length</th>\n",
       "      <th>loan_amnt</th>\n",
       "      <th>loan_int_rate</th>\n",
       "      <th>loan_status</th>\n",
       "      <th>loan_percent_income</th>\n",
       "      <th>cb_person_cred_hist_length</th>\n",
       "    </tr>\n",
       "  </thead>\n",
       "  <tbody>\n",
       "    <tr>\n",
       "      <th>count</th>\n",
       "      <td>3999.000000</td>\n",
       "      <td>3999.000000</td>\n",
       "      <td>3828.000000</td>\n",
       "      <td>3999.000000</td>\n",
       "      <td>3637.000000</td>\n",
       "      <td>3999.000000</td>\n",
       "      <td>3999.000000</td>\n",
       "      <td>3999.000000</td>\n",
       "    </tr>\n",
       "    <tr>\n",
       "      <th>mean</th>\n",
       "      <td>23.609652</td>\n",
       "      <td>50445.026007</td>\n",
       "      <td>3.685998</td>\n",
       "      <td>9068.542136</td>\n",
       "      <td>11.335331</td>\n",
       "      <td>0.335584</td>\n",
       "      <td>0.193093</td>\n",
       "      <td>2.995249</td>\n",
       "    </tr>\n",
       "    <tr>\n",
       "      <th>std</th>\n",
       "      <td>3.812438</td>\n",
       "      <td>39328.699843</td>\n",
       "      <td>3.916444</td>\n",
       "      <td>7774.368752</td>\n",
       "      <td>3.230596</td>\n",
       "      <td>0.472253</td>\n",
       "      <td>0.132279</td>\n",
       "      <td>0.817656</td>\n",
       "    </tr>\n",
       "    <tr>\n",
       "      <th>min</th>\n",
       "      <td>20.000000</td>\n",
       "      <td>9600.000000</td>\n",
       "      <td>0.000000</td>\n",
       "      <td>500.000000</td>\n",
       "      <td>5.420000</td>\n",
       "      <td>0.000000</td>\n",
       "      <td>0.010000</td>\n",
       "      <td>2.000000</td>\n",
       "    </tr>\n",
       "    <tr>\n",
       "      <th>25%</th>\n",
       "      <td>22.000000</td>\n",
       "      <td>29903.000000</td>\n",
       "      <td>1.000000</td>\n",
       "      <td>3000.000000</td>\n",
       "      <td>8.590000</td>\n",
       "      <td>0.000000</td>\n",
       "      <td>0.080000</td>\n",
       "      <td>2.000000</td>\n",
       "    </tr>\n",
       "    <tr>\n",
       "      <th>50%</th>\n",
       "      <td>23.000000</td>\n",
       "      <td>38000.000000</td>\n",
       "      <td>3.000000</td>\n",
       "      <td>5000.000000</td>\n",
       "      <td>11.360000</td>\n",
       "      <td>0.000000</td>\n",
       "      <td>0.170000</td>\n",
       "      <td>3.000000</td>\n",
       "    </tr>\n",
       "    <tr>\n",
       "      <th>75%</th>\n",
       "      <td>25.000000</td>\n",
       "      <td>58000.000000</td>\n",
       "      <td>6.000000</td>\n",
       "      <td>15000.000000</td>\n",
       "      <td>13.610000</td>\n",
       "      <td>1.000000</td>\n",
       "      <td>0.280000</td>\n",
       "      <td>4.000000</td>\n",
       "    </tr>\n",
       "    <tr>\n",
       "      <th>max</th>\n",
       "      <td>144.000000</td>\n",
       "      <td>500000.000000</td>\n",
       "      <td>123.000000</td>\n",
       "      <td>35000.000000</td>\n",
       "      <td>21.740000</td>\n",
       "      <td>1.000000</td>\n",
       "      <td>0.830000</td>\n",
       "      <td>4.000000</td>\n",
       "    </tr>\n",
       "  </tbody>\n",
       "</table>\n",
       "</div>"
      ],
      "text/plain": [
       "        person_age  person_income  person_emp_length     loan_amnt  \\\n",
       "count  3999.000000    3999.000000        3828.000000   3999.000000   \n",
       "mean     23.609652   50445.026007           3.685998   9068.542136   \n",
       "std       3.812438   39328.699843           3.916444   7774.368752   \n",
       "min      20.000000    9600.000000           0.000000    500.000000   \n",
       "25%      22.000000   29903.000000           1.000000   3000.000000   \n",
       "50%      23.000000   38000.000000           3.000000   5000.000000   \n",
       "75%      25.000000   58000.000000           6.000000  15000.000000   \n",
       "max     144.000000  500000.000000         123.000000  35000.000000   \n",
       "\n",
       "       loan_int_rate  loan_status  loan_percent_income  \\\n",
       "count    3637.000000  3999.000000          3999.000000   \n",
       "mean       11.335331     0.335584             0.193093   \n",
       "std         3.230596     0.472253             0.132279   \n",
       "min         5.420000     0.000000             0.010000   \n",
       "25%         8.590000     0.000000             0.080000   \n",
       "50%        11.360000     0.000000             0.170000   \n",
       "75%        13.610000     1.000000             0.280000   \n",
       "max        21.740000     1.000000             0.830000   \n",
       "\n",
       "       cb_person_cred_hist_length  \n",
       "count                 3999.000000  \n",
       "mean                     2.995249  \n",
       "std                      0.817656  \n",
       "min                      2.000000  \n",
       "25%                      2.000000  \n",
       "50%                      3.000000  \n",
       "75%                      4.000000  \n",
       "max                      4.000000  "
      ]
     },
     "execution_count": 291,
     "metadata": {},
     "output_type": "execute_result"
    }
   ],
   "source": [
    "df.describe()"
   ]
  },
  {
   "cell_type": "code",
   "execution_count": 292,
   "id": "afc0a52d",
   "metadata": {},
   "outputs": [
    {
     "data": {
      "image/png": "[encoded data removed]",
      "text/plain": [
       "<Figure size 1000x500 with 4 Axes>"
      ]
     },
     "metadata": {},
     "output_type": "display_data"
    }
   ],
   "source": [
    "#We can see that the maximum age is 144 years, so probabilly it is an outlier\n",
    "features = ['person_age','person_emp_length','loan_percent_income','cb_person_cred_hist_length']\n",
    "plt.figure(figsize=(10,5))\n",
    "for i in range(0,len(features)):\n",
    "    plt.subplot(1, len(features), i + 1)\n",
    "    sns.boxplot(y=df[features[i]], color='CornflowerBlue', orient='v')\n",
    "    plt.tight_layout()"
   ]
  },
  {
   "cell_type": "code",
   "execution_count": 293,
   "id": "2f6d1a06",
   "metadata": {},
   "outputs": [
    {
     "data": {
      "text/plain": [
       "0    2657\n",
       "1    1342\n",
       "Name: loan_status, dtype: int64"
      ]
     },
     "execution_count": 293,
     "metadata": {},
     "output_type": "execute_result"
    }
   ],
   "source": [
    "#Checking balance columns target\n",
    "df.loan_status.value_counts()"
   ]
  },
  {
   "cell_type": "code",
   "execution_count": 294,
   "id": "c7b21248",
   "metadata": {},
   "outputs": [
    {
     "data": {
      "image/png": "[encoded data removed]",
      "text/plain": [
       "<Figure size 800x400 with 1 Axes>"
      ]
     },
     "metadata": {},
     "output_type": "display_data"
    }
   ],
   "source": [
    "plt.figure(figsize=(8,4))\n",
    "sns.countplot(x='loan_status', data=df)\n",
    "plt.show()"
   ]
  },
  {
   "cell_type": "code",
   "execution_count": 295,
   "id": "09addbae",
   "metadata": {},
   "outputs": [
    {
     "data": {
      "image/png": "[encoded data removed]",
      "text/plain": [
       "<Figure size 1000x500 with 1 Axes>"
      ]
     },
     "metadata": {},
     "output_type": "display_data"
    }
   ],
   "source": [
    "plt.figure(figsize=(10,5))\n",
    "sns.histplot(data=df, x= 'person_emp_length', bins=15)\n",
    "plt.show()"
   ]
  },
  {
   "cell_type": "markdown",
   "id": "d557aeb7",
   "metadata": {},
   "source": [
    "# Analysing the correlation between variables"
   ]
  },
  {
   "cell_type": "code",
   "execution_count": 296,
   "id": "c5aae255",
   "metadata": {},
   "outputs": [
    {
     "data": {
      "text/html": [
       "<div>\n",
       "<style scoped>\n",
       "    .dataframe tbody tr th:only-of-type {\n",
       "        vertical-align: middle;\n",
       "    }\n",
       "\n",
       "    .dataframe tbody tr th {\n",
       "        vertical-align: top;\n",
       "    }\n",
       "\n",
       "    .dataframe thead th {\n",
       "        text-align: right;\n",
       "    }\n",
       "</style>\n",
       "<table border=\"1\" class=\"dataframe\">\n",
       "  <thead>\n",
       "    <tr style=\"text-align: right;\">\n",
       "      <th></th>\n",
       "      <th>person_age</th>\n",
       "      <th>person_income</th>\n",
       "      <th>person_emp_length</th>\n",
       "      <th>loan_amnt</th>\n",
       "      <th>loan_int_rate</th>\n",
       "      <th>loan_percent_income</th>\n",
       "      <th>cb_person_cred_hist_length</th>\n",
       "      <th>loan_status</th>\n",
       "    </tr>\n",
       "  </thead>\n",
       "  <tbody>\n",
       "    <tr>\n",
       "      <th>person_age</th>\n",
       "      <td>1.000000</td>\n",
       "      <td>0.162314</td>\n",
       "      <td>0.039377</td>\n",
       "      <td>0.065229</td>\n",
       "      <td>0.011394</td>\n",
       "      <td>-0.017112</td>\n",
       "      <td>0.007028</td>\n",
       "      <td>-0.029751</td>\n",
       "    </tr>\n",
       "    <tr>\n",
       "      <th>person_income</th>\n",
       "      <td>0.162314</td>\n",
       "      <td>1.000000</td>\n",
       "      <td>0.149733</td>\n",
       "      <td>0.504212</td>\n",
       "      <td>0.095082</td>\n",
       "      <td>-0.134448</td>\n",
       "      <td>0.011231</td>\n",
       "      <td>-0.132551</td>\n",
       "    </tr>\n",
       "    <tr>\n",
       "      <th>person_emp_length</th>\n",
       "      <td>0.039377</td>\n",
       "      <td>0.149733</td>\n",
       "      <td>1.000000</td>\n",
       "      <td>0.168183</td>\n",
       "      <td>-0.024056</td>\n",
       "      <td>0.073473</td>\n",
       "      <td>-0.001943</td>\n",
       "      <td>-0.012694</td>\n",
       "    </tr>\n",
       "    <tr>\n",
       "      <th>loan_amnt</th>\n",
       "      <td>0.065229</td>\n",
       "      <td>0.504212</td>\n",
       "      <td>0.168183</td>\n",
       "      <td>1.000000</td>\n",
       "      <td>0.172422</td>\n",
       "      <td>0.674022</td>\n",
       "      <td>0.009673</td>\n",
       "      <td>0.271799</td>\n",
       "    </tr>\n",
       "    <tr>\n",
       "      <th>loan_int_rate</th>\n",
       "      <td>0.011394</td>\n",
       "      <td>0.095082</td>\n",
       "      <td>-0.024056</td>\n",
       "      <td>0.172422</td>\n",
       "      <td>1.000000</td>\n",
       "      <td>0.076928</td>\n",
       "      <td>-0.020752</td>\n",
       "      <td>0.335381</td>\n",
       "    </tr>\n",
       "    <tr>\n",
       "      <th>loan_percent_income</th>\n",
       "      <td>-0.017112</td>\n",
       "      <td>-0.134448</td>\n",
       "      <td>0.073473</td>\n",
       "      <td>0.674022</td>\n",
       "      <td>0.076928</td>\n",
       "      <td>1.000000</td>\n",
       "      <td>0.001084</td>\n",
       "      <td>0.427980</td>\n",
       "    </tr>\n",
       "    <tr>\n",
       "      <th>cb_person_cred_hist_length</th>\n",
       "      <td>0.007028</td>\n",
       "      <td>0.011231</td>\n",
       "      <td>-0.001943</td>\n",
       "      <td>0.009673</td>\n",
       "      <td>-0.020752</td>\n",
       "      <td>0.001084</td>\n",
       "      <td>1.000000</td>\n",
       "      <td>-0.002995</td>\n",
       "    </tr>\n",
       "    <tr>\n",
       "      <th>loan_status</th>\n",
       "      <td>-0.029751</td>\n",
       "      <td>-0.132551</td>\n",
       "      <td>-0.012694</td>\n",
       "      <td>0.271799</td>\n",
       "      <td>0.335381</td>\n",
       "      <td>0.427980</td>\n",
       "      <td>-0.002995</td>\n",
       "      <td>1.000000</td>\n",
       "    </tr>\n",
       "  </tbody>\n",
       "</table>\n",
       "</div>"
      ],
      "text/plain": [
       "                            person_age  person_income  person_emp_length  \\\n",
       "person_age                    1.000000       0.162314           0.039377   \n",
       "person_income                 0.162314       1.000000           0.149733   \n",
       "person_emp_length             0.039377       0.149733           1.000000   \n",
       "loan_amnt                     0.065229       0.504212           0.168183   \n",
       "loan_int_rate                 0.011394       0.095082          -0.024056   \n",
       "loan_percent_income          -0.017112      -0.134448           0.073473   \n",
       "cb_person_cred_hist_length    0.007028       0.011231          -0.001943   \n",
       "loan_status                  -0.029751      -0.132551          -0.012694   \n",
       "\n",
       "                            loan_amnt  loan_int_rate  loan_percent_income  \\\n",
       "person_age                   0.065229       0.011394            -0.017112   \n",
       "person_income                0.504212       0.095082            -0.134448   \n",
       "person_emp_length            0.168183      -0.024056             0.073473   \n",
       "loan_amnt                    1.000000       0.172422             0.674022   \n",
       "loan_int_rate                0.172422       1.000000             0.076928   \n",
       "loan_percent_income          0.674022       0.076928             1.000000   \n",
       "cb_person_cred_hist_length   0.009673      -0.020752             0.001084   \n",
       "loan_status                  0.271799       0.335381             0.427980   \n",
       "\n",
       "                            cb_person_cred_hist_length  loan_status  \n",
       "person_age                                    0.007028    -0.029751  \n",
       "person_income                                 0.011231    -0.132551  \n",
       "person_emp_length                            -0.001943    -0.012694  \n",
       "loan_amnt                                     0.009673     0.271799  \n",
       "loan_int_rate                                -0.020752     0.335381  \n",
       "loan_percent_income                           0.001084     0.427980  \n",
       "cb_person_cred_hist_length                    1.000000    -0.002995  \n",
       "loan_status                                  -0.002995     1.000000  "
      ]
     },
     "execution_count": 296,
     "metadata": {},
     "output_type": "execute_result"
    }
   ],
   "source": [
    "variables = ['person_age','person_income','person_emp_length', 'loan_amnt', 'loan_int_rate', 'loan_percent_income',\n",
    "             'cb_person_cred_hist_length', 'loan_status']\n",
    "credit_risk_corr = df[variables].corr()\n",
    "credit_risk_corr"
   ]
  },
  {
   "cell_type": "code",
   "execution_count": 297,
   "id": "a9a0a7bc",
   "metadata": {},
   "outputs": [
    {
     "data": {
      "image/png": "[encoded data removed]",
      "text/plain": [
       "<Figure size 1000x500 with 2 Axes>"
      ]
     },
     "metadata": {},
     "output_type": "display_data"
    }
   ],
   "source": [
    "plt.figure(figsize=(10,5))\n",
    "sns.heatmap(credit_risk_corr, cmap='Blues', annot=True, fmt='.2f')\n",
    "plt.show()"
   ]
  },
  {
   "cell_type": "markdown",
   "id": "c87a0d0a",
   "metadata": {},
   "source": [
    "# Deal with Outliers"
   ]
  },
  {
   "cell_type": "code",
   "execution_count": 298,
   "id": "3a6b6838",
   "metadata": {},
   "outputs": [
    {
     "data": {
      "text/plain": [
       "81      144\n",
       "183     144\n",
       "575     123\n",
       "747     123\n",
       "3998     26\n",
       "3805     26\n",
       "2300     26\n",
       "3282     26\n",
       "3286     26\n",
       "2292     26\n",
       "Name: person_age, dtype: int64"
      ]
     },
     "execution_count": 298,
     "metadata": {},
     "output_type": "execute_result"
    }
   ],
   "source": [
    "\n",
    "df['person_age'].sort_values(ascending=False).head(10)"
   ]
  },
  {
   "cell_type": "code",
   "execution_count": 299,
   "id": "22cd0a7f",
   "metadata": {},
   "outputs": [
    {
     "data": {
      "text/plain": [
       "0       123.0\n",
       "210     123.0\n",
       "141      11.0\n",
       "553      11.0\n",
       "1176     11.0\n",
       "2798     11.0\n",
       "2641     11.0\n",
       "3463     11.0\n",
       "1281     10.0\n",
       "588      10.0\n",
       "Name: person_emp_length, dtype: float64"
      ]
     },
     "execution_count": 299,
     "metadata": {},
     "output_type": "execute_result"
    }
   ],
   "source": [
    "df['person_emp_length'].sort_values(ascending=False).head(10)"
   ]
  },
  {
   "cell_type": "code",
   "execution_count": 300,
   "id": "7e6e3d31",
   "metadata": {},
   "outputs": [
    {
     "data": {
      "text/plain": [
       "640     0.83\n",
       "571     0.77\n",
       "577     0.77\n",
       "460     0.72\n",
       "2452    0.71\n",
       "1773    0.69\n",
       "535     0.69\n",
       "3535    0.68\n",
       "962     0.67\n",
       "894     0.65\n",
       "Name: loan_percent_income, dtype: float64"
      ]
     },
     "execution_count": 300,
     "metadata": {},
     "output_type": "execute_result"
    }
   ],
   "source": [
    "df['loan_percent_income'].sort_values(ascending=False).head(10)"
   ]
  },
  {
   "cell_type": "markdown",
   "id": "da1f47f2",
   "metadata": {},
   "source": [
    "# Drop outliers"
   ]
  },
  {
   "cell_type": "code",
   "execution_count": 301,
   "id": "19b883d6",
   "metadata": {},
   "outputs": [],
   "source": [
    "df.drop(df.loc[df['person_emp_length'] == 123].index, inplace=True)"
   ]
  },
  {
   "cell_type": "code",
   "execution_count": 302,
   "id": "998a9e68",
   "metadata": {},
   "outputs": [
    {
     "data": {
      "text/html": [
       "<div>\n",
       "<style scoped>\n",
       "    .dataframe tbody tr th:only-of-type {\n",
       "        vertical-align: middle;\n",
       "    }\n",
       "\n",
       "    .dataframe tbody tr th {\n",
       "        vertical-align: top;\n",
       "    }\n",
       "\n",
       "    .dataframe thead th {\n",
       "        text-align: right;\n",
       "    }\n",
       "</style>\n",
       "<table border=\"1\" class=\"dataframe\">\n",
       "  <thead>\n",
       "    <tr style=\"text-align: right;\">\n",
       "      <th></th>\n",
       "      <th>person_age</th>\n",
       "      <th>person_income</th>\n",
       "      <th>person_home_ownership</th>\n",
       "      <th>person_emp_length</th>\n",
       "      <th>loan_intent</th>\n",
       "      <th>loan_grade</th>\n",
       "      <th>loan_amnt</th>\n",
       "      <th>loan_int_rate</th>\n",
       "      <th>loan_status</th>\n",
       "      <th>loan_percent_income</th>\n",
       "      <th>cb_person_default_on_file</th>\n",
       "      <th>cb_person_cred_hist_length</th>\n",
       "    </tr>\n",
       "  </thead>\n",
       "  <tbody>\n",
       "  </tbody>\n",
       "</table>\n",
       "</div>"
      ],
      "text/plain": [
       "Empty DataFrame\n",
       "Columns: [person_age, person_income, person_home_ownership, person_emp_length, loan_intent, loan_grade, loan_amnt, loan_int_rate, loan_status, loan_percent_income, cb_person_default_on_file, cb_person_cred_hist_length]\n",
       "Index: []"
      ]
     },
     "execution_count": 302,
     "metadata": {},
     "output_type": "execute_result"
    }
   ],
   "source": [
    "df.loc[df['person_emp_length'] == 123]"
   ]
  },
  {
   "cell_type": "code",
   "execution_count": 303,
   "id": "9f2d1d3f",
   "metadata": {},
   "outputs": [],
   "source": [
    "df.drop(df.loc[df['person_age'] >= 123].index, inplace=True)"
   ]
  },
  {
   "cell_type": "code",
   "execution_count": 304,
   "id": "04ad3129",
   "metadata": {},
   "outputs": [
    {
     "data": {
      "text/html": [
       "<div>\n",
       "<style scoped>\n",
       "    .dataframe tbody tr th:only-of-type {\n",
       "        vertical-align: middle;\n",
       "    }\n",
       "\n",
       "    .dataframe tbody tr th {\n",
       "        vertical-align: top;\n",
       "    }\n",
       "\n",
       "    .dataframe thead th {\n",
       "        text-align: right;\n",
       "    }\n",
       "</style>\n",
       "<table border=\"1\" class=\"dataframe\">\n",
       "  <thead>\n",
       "    <tr style=\"text-align: right;\">\n",
       "      <th></th>\n",
       "      <th>person_age</th>\n",
       "      <th>person_income</th>\n",
       "      <th>person_home_ownership</th>\n",
       "      <th>person_emp_length</th>\n",
       "      <th>loan_intent</th>\n",
       "      <th>loan_grade</th>\n",
       "      <th>loan_amnt</th>\n",
       "      <th>loan_int_rate</th>\n",
       "      <th>loan_status</th>\n",
       "      <th>loan_percent_income</th>\n",
       "      <th>cb_person_default_on_file</th>\n",
       "      <th>cb_person_cred_hist_length</th>\n",
       "    </tr>\n",
       "  </thead>\n",
       "  <tbody>\n",
       "  </tbody>\n",
       "</table>\n",
       "</div>"
      ],
      "text/plain": [
       "Empty DataFrame\n",
       "Columns: [person_age, person_income, person_home_ownership, person_emp_length, loan_intent, loan_grade, loan_amnt, loan_int_rate, loan_status, loan_percent_income, cb_person_default_on_file, cb_person_cred_hist_length]\n",
       "Index: []"
      ]
     },
     "execution_count": 304,
     "metadata": {},
     "output_type": "execute_result"
    }
   ],
   "source": [
    "df.loc[df['person_age'] >= 123]"
   ]
  },
  {
   "cell_type": "code",
   "execution_count": 305,
   "id": "7cd8472b",
   "metadata": {},
   "outputs": [
    {
     "data": {
      "image/png": "[encoded data removed]",
      "text/plain": [
       "<Figure size 1000x500 with 4 Axes>"
      ]
     },
     "metadata": {},
     "output_type": "display_data"
    }
   ],
   "source": [
    "#Confirm there is no outliers \n",
    "features = ['person_age','person_emp_length','loan_percent_income','cb_person_cred_hist_length']\n",
    "plt.figure(figsize=(10,5))\n",
    "for i in range(0,len(features)):\n",
    "    plt.subplot(1, len(features), i + 1)\n",
    "    sns.boxplot(y=df[features[i]], color='CornflowerBlue', orient='v')\n",
    "    plt.tight_layout()"
   ]
  },
  {
   "cell_type": "markdown",
   "id": "3e9cca1f",
   "metadata": {},
   "source": [
    "# Deal with N/A values"
   ]
  },
  {
   "cell_type": "code",
   "execution_count": 306,
   "id": "3b12f132",
   "metadata": {},
   "outputs": [],
   "source": [
    "mean_person_emp_length = df['person_emp_length'].mean()\n",
    "mean_loan_int_rate = df['loan_int_rate'].mean()"
   ]
  },
  {
   "cell_type": "code",
   "execution_count": 307,
   "id": "eff6551c",
   "metadata": {},
   "outputs": [
    {
     "name": "stdout",
     "output_type": "stream",
     "text": [
      "Mean variable person_emp_length, 3.6229722658294086 and loan_int_rate, 11.334900881057308.\n"
     ]
    }
   ],
   "source": [
    "print(f'Mean variable person_emp_length, {mean_person_emp_length} and loan_int_rate, {mean_loan_int_rate}.')"
   ]
  },
  {
   "cell_type": "code",
   "execution_count": 308,
   "id": "13e106d7",
   "metadata": {},
   "outputs": [],
   "source": [
    "#Fill na with mean\n",
    "df['person_emp_length'] = df['person_emp_length'].fillna(mean_person_emp_length) "
   ]
  },
  {
   "cell_type": "code",
   "execution_count": 309,
   "id": "76a999c4",
   "metadata": {},
   "outputs": [
    {
     "data": {
      "text/plain": [
       "0"
      ]
     },
     "execution_count": 309,
     "metadata": {},
     "output_type": "execute_result"
    }
   ],
   "source": [
    "df['person_emp_length'].isna().sum()"
   ]
  },
  {
   "cell_type": "code",
   "execution_count": 310,
   "id": "bcaef65d",
   "metadata": {},
   "outputs": [],
   "source": [
    "df['loan_int_rate'] = df['loan_int_rate'].fillna(mean_loan_int_rate) "
   ]
  },
  {
   "cell_type": "code",
   "execution_count": 311,
   "id": "56a494af",
   "metadata": {},
   "outputs": [
    {
     "data": {
      "text/plain": [
       "0"
      ]
     },
     "execution_count": 311,
     "metadata": {},
     "output_type": "execute_result"
    }
   ],
   "source": [
    "df['loan_int_rate'].isna().sum()"
   ]
  },
  {
   "cell_type": "code",
   "execution_count": 312,
   "id": "4b3dd262",
   "metadata": {},
   "outputs": [
    {
     "name": "stdout",
     "output_type": "stream",
     "text": [
      "<class 'pandas.core.frame.DataFrame'>\n",
      "Int64Index: 3993 entries, 1 to 3998\n",
      "Data columns (total 12 columns):\n",
      " #   Column                      Non-Null Count  Dtype  \n",
      "---  ------                      --------------  -----  \n",
      " 0   person_age                  3993 non-null   int64  \n",
      " 1   person_income               3993 non-null   int64  \n",
      " 2   person_home_ownership       3993 non-null   object \n",
      " 3   person_emp_length           3993 non-null   float64\n",
      " 4   loan_intent                 3993 non-null   object \n",
      " 5   loan_grade                  3993 non-null   object \n",
      " 6   loan_amnt                   3993 non-null   int64  \n",
      " 7   loan_int_rate               3993 non-null   float64\n",
      " 8   loan_status                 3993 non-null   int64  \n",
      " 9   loan_percent_income         3993 non-null   float64\n",
      " 10  cb_person_default_on_file   3993 non-null   object \n",
      " 11  cb_person_cred_hist_length  3993 non-null   int64  \n",
      "dtypes: float64(3), int64(5), object(4)\n",
      "memory usage: 405.5+ KB\n"
     ]
    }
   ],
   "source": [
    "df.info()"
   ]
  },
  {
   "cell_type": "markdown",
   "id": "c320c9a1",
   "metadata": {},
   "source": [
    "# Transform categorical variables"
   ]
  },
  {
   "cell_type": "code",
   "execution_count": 313,
   "id": "344331a7",
   "metadata": {},
   "outputs": [],
   "source": [
    "def categorical_variables(df):\n",
    "    object_cols = ['person_home_ownership', 'loan_intent', 'loan_grade', 'cb_person_default_on_file']\n",
    "    label_encoder = LabelEncoder()\n",
    "    for col in object_cols:\n",
    "        df[col] = label_encoder.fit_transform(df[col])\n",
    "    return df"
   ]
  },
  {
   "cell_type": "code",
   "execution_count": 314,
   "id": "f5adf21b",
   "metadata": {},
   "outputs": [],
   "source": [
    "credit_df = categorical_variables(df)"
   ]
  },
  {
   "cell_type": "code",
   "execution_count": 315,
   "id": "c63cf5f1",
   "metadata": {},
   "outputs": [
    {
     "data": {
      "text/html": [
       "<div>\n",
       "<style scoped>\n",
       "    .dataframe tbody tr th:only-of-type {\n",
       "        vertical-align: middle;\n",
       "    }\n",
       "\n",
       "    .dataframe tbody tr th {\n",
       "        vertical-align: top;\n",
       "    }\n",
       "\n",
       "    .dataframe thead th {\n",
       "        text-align: right;\n",
       "    }\n",
       "</style>\n",
       "<table border=\"1\" class=\"dataframe\">\n",
       "  <thead>\n",
       "    <tr style=\"text-align: right;\">\n",
       "      <th></th>\n",
       "      <th>person_age</th>\n",
       "      <th>person_income</th>\n",
       "      <th>person_home_ownership</th>\n",
       "      <th>person_emp_length</th>\n",
       "      <th>loan_intent</th>\n",
       "      <th>loan_grade</th>\n",
       "      <th>loan_amnt</th>\n",
       "      <th>loan_int_rate</th>\n",
       "      <th>loan_status</th>\n",
       "      <th>loan_percent_income</th>\n",
       "      <th>cb_person_default_on_file</th>\n",
       "      <th>cb_person_cred_hist_length</th>\n",
       "    </tr>\n",
       "  </thead>\n",
       "  <tbody>\n",
       "    <tr>\n",
       "      <th>1</th>\n",
       "      <td>21</td>\n",
       "      <td>9600</td>\n",
       "      <td>2</td>\n",
       "      <td>5.0</td>\n",
       "      <td>1</td>\n",
       "      <td>1</td>\n",
       "      <td>1000</td>\n",
       "      <td>11.14</td>\n",
       "      <td>0</td>\n",
       "      <td>0.10</td>\n",
       "      <td>0</td>\n",
       "      <td>2</td>\n",
       "    </tr>\n",
       "    <tr>\n",
       "      <th>2</th>\n",
       "      <td>25</td>\n",
       "      <td>9600</td>\n",
       "      <td>0</td>\n",
       "      <td>1.0</td>\n",
       "      <td>3</td>\n",
       "      <td>2</td>\n",
       "      <td>5500</td>\n",
       "      <td>12.87</td>\n",
       "      <td>1</td>\n",
       "      <td>0.57</td>\n",
       "      <td>0</td>\n",
       "      <td>3</td>\n",
       "    </tr>\n",
       "    <tr>\n",
       "      <th>3</th>\n",
       "      <td>23</td>\n",
       "      <td>65500</td>\n",
       "      <td>3</td>\n",
       "      <td>4.0</td>\n",
       "      <td>3</td>\n",
       "      <td>2</td>\n",
       "      <td>35000</td>\n",
       "      <td>15.23</td>\n",
       "      <td>1</td>\n",
       "      <td>0.53</td>\n",
       "      <td>0</td>\n",
       "      <td>2</td>\n",
       "    </tr>\n",
       "    <tr>\n",
       "      <th>4</th>\n",
       "      <td>24</td>\n",
       "      <td>54400</td>\n",
       "      <td>3</td>\n",
       "      <td>8.0</td>\n",
       "      <td>3</td>\n",
       "      <td>2</td>\n",
       "      <td>35000</td>\n",
       "      <td>14.27</td>\n",
       "      <td>1</td>\n",
       "      <td>0.55</td>\n",
       "      <td>1</td>\n",
       "      <td>4</td>\n",
       "    </tr>\n",
       "    <tr>\n",
       "      <th>5</th>\n",
       "      <td>21</td>\n",
       "      <td>9900</td>\n",
       "      <td>2</td>\n",
       "      <td>2.0</td>\n",
       "      <td>5</td>\n",
       "      <td>0</td>\n",
       "      <td>2500</td>\n",
       "      <td>7.14</td>\n",
       "      <td>1</td>\n",
       "      <td>0.25</td>\n",
       "      <td>0</td>\n",
       "      <td>2</td>\n",
       "    </tr>\n",
       "  </tbody>\n",
       "</table>\n",
       "</div>"
      ],
      "text/plain": [
       "   person_age  person_income  person_home_ownership  person_emp_length  \\\n",
       "1          21           9600                      2                5.0   \n",
       "2          25           9600                      0                1.0   \n",
       "3          23          65500                      3                4.0   \n",
       "4          24          54400                      3                8.0   \n",
       "5          21           9900                      2                2.0   \n",
       "\n",
       "   loan_intent  loan_grade  loan_amnt  loan_int_rate  loan_status  \\\n",
       "1            1           1       1000          11.14            0   \n",
       "2            3           2       5500          12.87            1   \n",
       "3            3           2      35000          15.23            1   \n",
       "4            3           2      35000          14.27            1   \n",
       "5            5           0       2500           7.14            1   \n",
       "\n",
       "   loan_percent_income  cb_person_default_on_file  cb_person_cred_hist_length  \n",
       "1                 0.10                          0                           2  \n",
       "2                 0.57                          0                           3  \n",
       "3                 0.53                          0                           2  \n",
       "4                 0.55                          1                           4  \n",
       "5                 0.25                          0                           2  "
      ]
     },
     "execution_count": 315,
     "metadata": {},
     "output_type": "execute_result"
    }
   ],
   "source": [
    "credit_df.head()"
   ]
  },
  {
   "cell_type": "code",
   "execution_count": 316,
   "id": "d12bab7b",
   "metadata": {},
   "outputs": [
    {
     "name": "stdout",
     "output_type": "stream",
     "text": [
      "<class 'pandas.core.frame.DataFrame'>\n",
      "Int64Index: 3993 entries, 1 to 3998\n",
      "Data columns (total 12 columns):\n",
      " #   Column                      Non-Null Count  Dtype  \n",
      "---  ------                      --------------  -----  \n",
      " 0   person_age                  3993 non-null   int64  \n",
      " 1   person_income               3993 non-null   int64  \n",
      " 2   person_home_ownership       3993 non-null   int32  \n",
      " 3   person_emp_length           3993 non-null   float64\n",
      " 4   loan_intent                 3993 non-null   int32  \n",
      " 5   loan_grade                  3993 non-null   int32  \n",
      " 6   loan_amnt                   3993 non-null   int64  \n",
      " 7   loan_int_rate               3993 non-null   float64\n",
      " 8   loan_status                 3993 non-null   int64  \n",
      " 9   loan_percent_income         3993 non-null   float64\n",
      " 10  cb_person_default_on_file   3993 non-null   int32  \n",
      " 11  cb_person_cred_hist_length  3993 non-null   int64  \n",
      "dtypes: float64(3), int32(4), int64(5)\n",
      "memory usage: 343.1 KB\n"
     ]
    }
   ],
   "source": [
    "credit_df.info()"
   ]
  },
  {
   "cell_type": "markdown",
   "id": "afaf6864",
   "metadata": {},
   "source": [
    "# Applying Train_test_split"
   ]
  },
  {
   "cell_type": "code",
   "execution_count": 317,
   "id": "a1059aa2",
   "metadata": {},
   "outputs": [
    {
     "name": "stdout",
     "output_type": "stream",
     "text": [
      "[0 1 1 ... 1 0 0]\n"
     ]
    }
   ],
   "source": [
    "y = credit_df['loan_status'].values\n",
    "print(y)"
   ]
  },
  {
   "cell_type": "code",
   "execution_count": 318,
   "id": "b767e713",
   "metadata": {},
   "outputs": [
    {
     "name": "stdout",
     "output_type": "stream",
     "text": [
      "[[2.1000e+01 9.6000e+03 2.0000e+00 ... 1.0000e-01 0.0000e+00 2.0000e+00]\n",
      " [2.5000e+01 9.6000e+03 0.0000e+00 ... 5.7000e-01 0.0000e+00 3.0000e+00]\n",
      " [2.3000e+01 6.5500e+04 3.0000e+00 ... 5.3000e-01 0.0000e+00 2.0000e+00]\n",
      " ...\n",
      " [2.3000e+01 4.8000e+04 3.0000e+00 ... 8.0000e-02 0.0000e+00 3.0000e+00]\n",
      " [2.5000e+01 5.4000e+04 3.0000e+00 ... 7.0000e-02 0.0000e+00 2.0000e+00]\n",
      " [2.6000e+01 5.4996e+04 3.0000e+00 ... 7.0000e-02 0.0000e+00 4.0000e+00]]\n"
     ]
    }
   ],
   "source": [
    "x_df = credit_df.drop('loan_status', axis=1)\n",
    "x = x_df.values\n",
    "print(x)"
   ]
  },
  {
   "cell_type": "markdown",
   "id": "1fb66767",
   "metadata": {},
   "source": [
    "# Applying train_test_split to split train and test data"
   ]
  },
  {
   "cell_type": "code",
   "execution_count": 319,
   "id": "d06c9341",
   "metadata": {},
   "outputs": [],
   "source": [
    "seed = 27\n",
    "size = 0.3\n",
    "X_train, X_test, Y_train, y_test = train_test_split(x, y, test_size=size, random_state=seed)"
   ]
  },
  {
   "cell_type": "code",
   "execution_count": 320,
   "id": "4f445fbd",
   "metadata": {},
   "outputs": [
    {
     "name": "stdout",
     "output_type": "stream",
     "text": [
      "X_train size (2795, 11),X_test: (1198, 11), Y_train: (2795,), Y_test (1198,)\n"
     ]
    }
   ],
   "source": [
    "print(f'X_train size {X_train.shape},X_test: {X_test.shape}, Y_train: {Y_train.shape}, Y_test {y_test.shape}')"
   ]
  },
  {
   "cell_type": "markdown",
   "id": "0fe558e8",
   "metadata": {},
   "source": [
    "# Applying Normalization"
   ]
  },
  {
   "cell_type": "code",
   "execution_count": 321,
   "id": "5469c3ed",
   "metadata": {},
   "outputs": [],
   "source": [
    "#Transform features on a similar scale"
   ]
  },
  {
   "cell_type": "code",
   "execution_count": 335,
   "id": "bbfbcff7",
   "metadata": {},
   "outputs": [],
   "source": [
    "scaler = MinMaxScaler().fit(X_train)\n",
    "X_train_norm = scaler.transform(X_train)\n",
    "X_test_norm = scaler.transform(X_test)"
   ]
  },
  {
   "cell_type": "code",
   "execution_count": 336,
   "id": "7d98b420",
   "metadata": {},
   "outputs": [
    {
     "data": {
      "text/plain": [
       "array([[0.66666667, 0.07210526, 1.        , ..., 0.06097561, 0.        ,\n",
       "        0.        ],\n",
       "       [0.16666667, 0.04534413, 0.66666667, ..., 0.7804878 , 0.        ,\n",
       "        0.        ],\n",
       "       [0.83333333, 0.12618084, 1.        , ..., 0.07317073, 0.        ,\n",
       "        0.5       ],\n",
       "       ...,\n",
       "       [0.33333333, 0.09960864, 0.66666667, ..., 0.14634146, 0.        ,\n",
       "        1.        ],\n",
       "       [0.33333333, 0.06477733, 1.        , ..., 0.15853659, 0.        ,\n",
       "        0.        ],\n",
       "       [0.33333333, 0.24618758, 1.        , ..., 0.25609756, 0.        ,\n",
       "        0.        ]])"
      ]
     },
     "execution_count": 336,
     "metadata": {},
     "output_type": "execute_result"
    }
   ],
   "source": [
    "#X_train scaled\n",
    "X_train_norm"
   ]
  },
  {
   "cell_type": "code",
   "execution_count": 337,
   "id": "b21827cb",
   "metadata": {},
   "outputs": [
    {
     "data": {
      "text/plain": [
       "array([[0.83333333, 0.02834008, 1.        , ..., 0.25609756, 1.        ,\n",
       "        1.        ],\n",
       "       [0.33333333, 0.10255061, 1.        , ..., 0.32926829, 0.        ,\n",
       "        0.        ],\n",
       "       [0.5       , 0.28812416, 1.        , ..., 0.24390244, 1.        ,\n",
       "        0.        ],\n",
       "       ...,\n",
       "       [1.        , 0.05533063, 0.        , ..., 0.54878049, 0.        ,\n",
       "        0.5       ],\n",
       "       [0.83333333, 0.11740891, 1.        , ..., 0.04878049, 1.        ,\n",
       "        0.5       ],\n",
       "       [0.83333333, 0.07287449, 0.        , ..., 0.08536585, 1.        ,\n",
       "        1.        ]])"
      ]
     },
     "execution_count": 337,
     "metadata": {},
     "output_type": "execute_result"
    }
   ],
   "source": [
    "#X_test scaled\n",
    "X_test_norm"
   ]
  },
  {
   "cell_type": "markdown",
   "id": "b4b39f6f",
   "metadata": {},
   "source": [
    "#  Machine Learning Model Trainning"
   ]
  },
  {
   "cell_type": "markdown",
   "id": "ecf9b06a",
   "metadata": {},
   "source": [
    "# Logistic Regression\n"
   ]
  },
  {
   "cell_type": "code",
   "execution_count": 353,
   "id": "20854548",
   "metadata": {
    "scrolled": false
   },
   "outputs": [
    {
     "name": "stdout",
     "output_type": "stream",
     "text": [
      "Accuracy train data: 80.64%\n"
     ]
    }
   ],
   "source": [
    "modelo = LogisticRegression(random_state=42)\n",
    "modelo.fit(X_train_norm, Y_train)\n",
    "score = modelo.score(X_train_norm, Y_train)\n",
    "print('Accuracy train data: %.2f%%' % (score * 100))"
   ]
  },
  {
   "cell_type": "code",
   "execution_count": 403,
   "id": "edf2b038",
   "metadata": {},
   "outputs": [
    {
     "data": {
      "text/plain": [
       "array([1, 0, 1, ..., 1, 0, 0], dtype=int64)"
      ]
     },
     "execution_count": 403,
     "metadata": {},
     "output_type": "execute_result"
    }
   ],
   "source": [
    "predict = modelo.predict(X_test_norm)\n",
    "predict"
   ]
  },
  {
   "cell_type": "code",
   "execution_count": 356,
   "id": "55f1b5bf",
   "metadata": {},
   "outputs": [
    {
     "name": "stdout",
     "output_type": "stream",
     "text": [
      "[[727  76]\n",
      " [ 78 317]]\n",
      "              precision    recall  f1-score   support\n",
      "\n",
      "           0       0.90      0.91      0.90       803\n",
      "           1       0.81      0.80      0.80       395\n",
      "\n",
      "    accuracy                           0.87      1198\n",
      "   macro avg       0.85      0.85      0.85      1198\n",
      "weighted avg       0.87      0.87      0.87      1198\n",
      "\n",
      "Logistic Regression accuracy:  0.8714524207011686\n"
     ]
    }
   ],
   "source": [
    "print(confusion_matrix(y_test,y_pred))\n",
    "print(classification_report(y_test,y_pred))\n",
    "print('Logistic Regression accuracy: ', accuracy_score(y_test, y_pred))"
   ]
  },
  {
   "cell_type": "markdown",
   "id": "7e41824f",
   "metadata": {},
   "source": [
    "#  Using the SMOTE algoritm to balance the class"
   ]
  },
  {
   "cell_type": "code",
   "execution_count": 399,
   "id": "0ed2ad83",
   "metadata": {},
   "outputs": [
    {
     "name": "stdout",
     "output_type": "stream",
     "text": [
      "Distribution target class before oversample:  Counter({0: 1849, 1: 946})\n"
     ]
    }
   ],
   "source": [
    "print('Distribution target class before oversample: ', Counter(Y_train))"
   ]
  },
  {
   "cell_type": "code",
   "execution_count": 400,
   "id": "6f902e16",
   "metadata": {},
   "outputs": [
    {
     "name": "stdout",
     "output_type": "stream",
     "text": [
      "Distribuition target class after oversample:  Counter({1: 1849, 0: 1849})\n"
     ]
    }
   ],
   "source": [
    "oversample= SMOTE(sampling_strategy=1, random_state=42, k_neighbors=3)\n",
    "X_train_over, Y_train_over = oversample.fit_resample(X_train_norm, Y_train)\n",
    "print('Distribuition target class after oversample: ', Counter(Y_train_over))"
   ]
  },
  {
   "cell_type": "code",
   "execution_count": 401,
   "id": "10aae30f",
   "metadata": {},
   "outputs": [
    {
     "name": "stdout",
     "output_type": "stream",
     "text": [
      "Accuracy train oversample data: 78.77%\n"
     ]
    }
   ],
   "source": [
    "#Trainning model with oversmaple examples\n",
    "modelo.fit(X_train_over, Y_train_over)\n",
    "score = modelo.score(X_train_over, Y_train_over)\n",
    "print('Accuracy train oversample data: %.2f%%' % (score * 100))"
   ]
  },
  {
   "cell_type": "code",
   "execution_count": 1,
   "id": "01b8bf9c",
   "metadata": {},
   "outputs": [
    {
     "ename": "NameError",
     "evalue": "name 'modelo' is not defined",
     "output_type": "error",
     "traceback": [
      "\u001b[1;31m---------------------------------------------------------------------------\u001b[0m",
      "\u001b[1;31mNameError\u001b[0m                                 Traceback (most recent call last)",
      "\u001b[1;32m~\\AppData\\Local\\Temp\\ipykernel_16572\\2314458724.py\u001b[0m in \u001b[0;36m<module>\u001b[1;34m\u001b[0m\n\u001b[1;32m----> 1\u001b[1;33m \u001b[0mpredict_over\u001b[0m \u001b[1;33m=\u001b[0m \u001b[0mmodelo\u001b[0m\u001b[1;33m.\u001b[0m\u001b[0mpredict\u001b[0m\u001b[1;33m(\u001b[0m\u001b[0mX_test_norm\u001b[0m\u001b[1;33m)\u001b[0m\u001b[1;33m\u001b[0m\u001b[1;33m\u001b[0m\u001b[0m\n\u001b[0m",
      "\u001b[1;31mNameError\u001b[0m: name 'modelo' is not defined"
     ]
    }
   ],
   "source": [
    "predict_over = modelo.predict(X_test_norm)"
   ]
  },
  {
   "cell_type": "markdown",
   "id": "68fd24d2",
   "metadata": {},
   "source": [
    "# Score with oversample"
   ]
  },
  {
   "cell_type": "code",
   "execution_count": 362,
   "id": "655279bd",
   "metadata": {},
   "outputs": [
    {
     "name": "stdout",
     "output_type": "stream",
     "text": [
      "Accuracy predict: 76.71%\n",
      "Precision: 61.37%\n",
      "Recall: 79.24%\n",
      "F1_score: 69.17%\n"
     ]
    }
   ],
   "source": [
    "accuracy_oversample = accuracy_score(y_test, predict_over)\n",
    "precision_oversample = precision_score(y_test, predict_over)\n",
    "recall_oversample = recall_score(y_test, predict_over)\n",
    "f1_score_oversample = f1_score(y_test, predict_over)\n",
    "\n",
    "print('Accuracy predict: %.2f%%' % (accuracy_oversample * 100.0))\n",
    "print('Precision: %.2f%%' % (precision_oversample * 100.0))\n",
    "print('Recall: %.2f%%' % (recall_oversample * 100.0))\n",
    "print('F1_score: %.2f%%' % (f1_score_oversample * 100.0))"
   ]
  },
  {
   "cell_type": "markdown",
   "id": "72a50ea6",
   "metadata": {},
   "source": [
    "# Confusion Matrix after oversample"
   ]
  },
  {
   "cell_type": "code",
   "execution_count": 363,
   "id": "5a3c74dd",
   "metadata": {
    "scrolled": false
   },
   "outputs": [
    {
     "data": {
      "image/png": "[encoded data removed]",
      "text/plain": [
       "<Figure size 500x500 with 1 Axes>"
      ]
     },
     "metadata": {},
     "output_type": "display_data"
    }
   ],
   "source": [
    "plt.figure(figsize=(5,5))\n",
    "\n",
    "sns.heatmap(confusion_matrix(y_test,predict_over), annot=True, cmap='Blues', fmt='g', cbar=False)\n",
    "\n",
    "plt.title(\"Confusion Matrix\", fontsize=14, fontweight='bold')\n",
    "\n",
    "plt.show()"
   ]
  },
  {
   "cell_type": "markdown",
   "id": "e14bf507",
   "metadata": {},
   "source": [
    "# Decision Tree"
   ]
  },
  {
   "cell_type": "code",
   "execution_count": 364,
   "id": "0fcc0015",
   "metadata": {},
   "outputs": [],
   "source": [
    "from sklearn.tree import DecisionTreeClassifier"
   ]
  },
  {
   "cell_type": "code",
   "execution_count": 365,
   "id": "48dbaa28",
   "metadata": {},
   "outputs": [
    {
     "data": {
      "text/plain": [
       "DecisionTreeClassifier()"
      ]
     },
     "execution_count": 365,
     "metadata": {},
     "output_type": "execute_result"
    }
   ],
   "source": [
    "DT_classifier = DecisionTreeClassifier()\n",
    "DT_classifier.fit(X_train, Y_train.ravel())"
   ]
  },
  {
   "cell_type": "code",
   "execution_count": 366,
   "id": "60f62bd0",
   "metadata": {},
   "outputs": [
    {
     "name": "stdout",
     "output_type": "stream",
     "text": [
      "[[728  75]\n",
      " [ 72 323]]\n",
      "              precision    recall  f1-score   support\n",
      "\n",
      "           0       0.91      0.91      0.91       803\n",
      "           1       0.81      0.82      0.81       395\n",
      "\n",
      "    accuracy                           0.88      1198\n",
      "   macro avg       0.86      0.86      0.86      1198\n",
      "weighted avg       0.88      0.88      0.88      1198\n",
      "\n",
      "Decision Tree accuracy:  0.88\n"
     ]
    }
   ],
   "source": [
    "y_pred = DT_classifier.predict(X_test)\n",
    "print(confusion_matrix(y_test,y_pred))\n",
    "print(classification_report(y_test,y_pred))\n",
    "print('Decision Tree accuracy: ', round(accuracy_score(y_test, y_pred),2))"
   ]
  },
  {
   "cell_type": "code",
   "execution_count": 367,
   "id": "dbcf1692",
   "metadata": {},
   "outputs": [],
   "source": [
    "from six import StringIO\n",
    "from IPython.display import Image  \n",
    "from sklearn.tree import DecisionTreeClassifier, export_graphviz\n",
    "import pydotplus\n",
    "from graphviz import Digraph"
   ]
  },
  {
   "cell_type": "code",
   "execution_count": 368,
   "id": "e465700e",
   "metadata": {},
   "outputs": [],
   "source": [
    "features = ['person_age', 'person_income', 'person_home_ownership', 'person_emp_length', 'loan_intent',\n",
    "            'loan_grade', 'loan_amnt', 'loan_int_rate', 'loan_percent_income', \n",
    "            'cb_person_default_on_file', 'cb_person_cred_hist_length']"
   ]
  },
  {
   "cell_type": "code",
   "execution_count": 369,
   "id": "8e410dbb",
   "metadata": {},
   "outputs": [],
   "source": [
    "X_plot_tree = df[features]"
   ]
  },
  {
   "cell_type": "code",
   "execution_count": 370,
   "id": "0ab7d96d",
   "metadata": {},
   "outputs": [
    {
     "data": {
      "text/html": [
       "<div>\n",
       "<style scoped>\n",
       "    .dataframe tbody tr th:only-of-type {\n",
       "        vertical-align: middle;\n",
       "    }\n",
       "\n",
       "    .dataframe tbody tr th {\n",
       "        vertical-align: top;\n",
       "    }\n",
       "\n",
       "    .dataframe thead th {\n",
       "        text-align: right;\n",
       "    }\n",
       "</style>\n",
       "<table border=\"1\" class=\"dataframe\">\n",
       "  <thead>\n",
       "    <tr style=\"text-align: right;\">\n",
       "      <th></th>\n",
       "      <th>FeatureName</th>\n",
       "      <th>Decision Tree Feature Importance</th>\n",
       "    </tr>\n",
       "  </thead>\n",
       "  <tbody>\n",
       "    <tr>\n",
       "      <th>8</th>\n",
       "      <td>loan_percent_income</td>\n",
       "      <td>0.294455</td>\n",
       "    </tr>\n",
       "    <tr>\n",
       "      <th>1</th>\n",
       "      <td>person_income</td>\n",
       "      <td>0.194457</td>\n",
       "    </tr>\n",
       "    <tr>\n",
       "      <th>5</th>\n",
       "      <td>loan_grade</td>\n",
       "      <td>0.146484</td>\n",
       "    </tr>\n",
       "    <tr>\n",
       "      <th>2</th>\n",
       "      <td>person_home_ownership</td>\n",
       "      <td>0.123895</td>\n",
       "    </tr>\n",
       "    <tr>\n",
       "      <th>7</th>\n",
       "      <td>loan_int_rate</td>\n",
       "      <td>0.064159</td>\n",
       "    </tr>\n",
       "    <tr>\n",
       "      <th>4</th>\n",
       "      <td>loan_intent</td>\n",
       "      <td>0.054857</td>\n",
       "    </tr>\n",
       "    <tr>\n",
       "      <th>3</th>\n",
       "      <td>person_emp_length</td>\n",
       "      <td>0.040357</td>\n",
       "    </tr>\n",
       "    <tr>\n",
       "      <th>6</th>\n",
       "      <td>loan_amnt</td>\n",
       "      <td>0.033257</td>\n",
       "    </tr>\n",
       "    <tr>\n",
       "      <th>0</th>\n",
       "      <td>person_age</td>\n",
       "      <td>0.023247</td>\n",
       "    </tr>\n",
       "    <tr>\n",
       "      <th>10</th>\n",
       "      <td>cb_person_cred_hist_length</td>\n",
       "      <td>0.018849</td>\n",
       "    </tr>\n",
       "    <tr>\n",
       "      <th>9</th>\n",
       "      <td>cb_person_default_on_file</td>\n",
       "      <td>0.005982</td>\n",
       "    </tr>\n",
       "  </tbody>\n",
       "</table>\n",
       "</div>"
      ],
      "text/plain": [
       "                   FeatureName  Decision Tree Feature Importance\n",
       "8          loan_percent_income                          0.294455\n",
       "1                person_income                          0.194457\n",
       "5                   loan_grade                          0.146484\n",
       "2        person_home_ownership                          0.123895\n",
       "7                loan_int_rate                          0.064159\n",
       "4                  loan_intent                          0.054857\n",
       "3            person_emp_length                          0.040357\n",
       "6                    loan_amnt                          0.033257\n",
       "0                   person_age                          0.023247\n",
       "10  cb_person_cred_hist_length                          0.018849\n",
       "9    cb_person_default_on_file                          0.005982"
      ]
     },
     "execution_count": 370,
     "metadata": {},
     "output_type": "execute_result"
    }
   ],
   "source": [
    "importance_dt = DT_classifier.feature_importances_\n",
    "features_importances_dt = pd.DataFrame({'FeatureName': df.loc[:,features].columns, 'Decision Tree Feature Importance': importance_dt})\n",
    "features_importances_dt.sort_values(by=['Decision Tree Feature Importance'], ascending=False)"
   ]
  },
  {
   "cell_type": "code",
   "execution_count": 371,
   "id": "a2d573fd",
   "metadata": {},
   "outputs": [
    {
     "data": {
      "text/plain": [
       "<AxesSubplot:ylabel='FeatureName'>"
      ]
     },
     "execution_count": 371,
     "metadata": {},
     "output_type": "execute_result"
    },
    {
     "data": {
      "image/png": "[encoded data removed]",
      "text/plain": [
       "<Figure size 1500x800 with 1 Axes>"
      ]
     },
     "metadata": {},
     "output_type": "display_data"
    }
   ],
   "source": [
    "features_importances_dt.sort_values(\"Decision Tree Feature Importance\").plot(figsize=(15,8), x=\"FeatureName\", y=[\"Decision Tree Feature Importance\"], kind=\"barh\")"
   ]
  },
  {
   "cell_type": "code",
   "execution_count": 372,
   "id": "9ed11f08",
   "metadata": {},
   "outputs": [
    {
     "data": {
      "text/plain": [
       "DecisionTreeClassifier(max_depth=4, min_samples_leaf=20)"
      ]
     },
     "execution_count": 372,
     "metadata": {},
     "output_type": "execute_result"
    }
   ],
   "source": [
    "from sklearn import tree\n",
    "DT_classifier2 = DecisionTreeClassifier(max_depth=4,min_samples_leaf=20)\n",
    "DT_classifier2.fit(X_train, Y_train.ravel())"
   ]
  },
  {
   "cell_type": "code",
   "execution_count": 373,
   "id": "432ba410",
   "metadata": {},
   "outputs": [
    {
     "data": {
      "text/html": [
       "<div>\n",
       "<style scoped>\n",
       "    .dataframe tbody tr th:only-of-type {\n",
       "        vertical-align: middle;\n",
       "    }\n",
       "\n",
       "    .dataframe tbody tr th {\n",
       "        vertical-align: top;\n",
       "    }\n",
       "\n",
       "    .dataframe thead th {\n",
       "        text-align: right;\n",
       "    }\n",
       "</style>\n",
       "<table border=\"1\" class=\"dataframe\">\n",
       "  <thead>\n",
       "    <tr style=\"text-align: right;\">\n",
       "      <th></th>\n",
       "      <th>Y observed</th>\n",
       "      <th>Y classification</th>\n",
       "      <th>Y probability</th>\n",
       "    </tr>\n",
       "  </thead>\n",
       "  <tbody>\n",
       "    <tr>\n",
       "      <th>0</th>\n",
       "      <td>1</td>\n",
       "      <td>1</td>\n",
       "      <td>1.000000</td>\n",
       "    </tr>\n",
       "    <tr>\n",
       "      <th>1</th>\n",
       "      <td>0</td>\n",
       "      <td>0</td>\n",
       "      <td>0.132231</td>\n",
       "    </tr>\n",
       "    <tr>\n",
       "      <th>2</th>\n",
       "      <td>0</td>\n",
       "      <td>0</td>\n",
       "      <td>0.052820</td>\n",
       "    </tr>\n",
       "    <tr>\n",
       "      <th>3</th>\n",
       "      <td>0</td>\n",
       "      <td>0</td>\n",
       "      <td>0.052820</td>\n",
       "    </tr>\n",
       "    <tr>\n",
       "      <th>4</th>\n",
       "      <td>1</td>\n",
       "      <td>1</td>\n",
       "      <td>1.000000</td>\n",
       "    </tr>\n",
       "    <tr>\n",
       "      <th>...</th>\n",
       "      <td>...</td>\n",
       "      <td>...</td>\n",
       "      <td>...</td>\n",
       "    </tr>\n",
       "    <tr>\n",
       "      <th>2790</th>\n",
       "      <td>0</td>\n",
       "      <td>0</td>\n",
       "      <td>0.052820</td>\n",
       "    </tr>\n",
       "    <tr>\n",
       "      <th>2791</th>\n",
       "      <td>0</td>\n",
       "      <td>0</td>\n",
       "      <td>0.150338</td>\n",
       "    </tr>\n",
       "    <tr>\n",
       "      <th>2792</th>\n",
       "      <td>0</td>\n",
       "      <td>0</td>\n",
       "      <td>0.052820</td>\n",
       "    </tr>\n",
       "    <tr>\n",
       "      <th>2793</th>\n",
       "      <td>0</td>\n",
       "      <td>0</td>\n",
       "      <td>0.150338</td>\n",
       "    </tr>\n",
       "    <tr>\n",
       "      <th>2794</th>\n",
       "      <td>0</td>\n",
       "      <td>0</td>\n",
       "      <td>0.052820</td>\n",
       "    </tr>\n",
       "  </tbody>\n",
       "</table>\n",
       "<p>2795 rows × 3 columns</p>\n",
       "</div>"
      ],
      "text/plain": [
       "      Y observed  Y classification  Y probability\n",
       "0              1                 1       1.000000\n",
       "1              0                 0       0.132231\n",
       "2              0                 0       0.052820\n",
       "3              0                 0       0.052820\n",
       "4              1                 1       1.000000\n",
       "...          ...               ...            ...\n",
       "2790           0                 0       0.052820\n",
       "2791           0                 0       0.150338\n",
       "2792           0                 0       0.052820\n",
       "2793           0                 0       0.150338\n",
       "2794           0                 0       0.052820\n",
       "\n",
       "[2795 rows x 3 columns]"
      ]
     },
     "execution_count": 373,
     "metadata": {},
     "output_type": "execute_result"
    }
   ],
   "source": [
    "y_prob_train_dt2 = DT_classifier2.predict_proba(X_train)\n",
    "y_pred_train_dt2 = DT_classifier2.predict(X_train)\n",
    "df_report = pd.DataFrame({'Y observed':Y_train.ravel(), 'Y classification':y_pred_train_dt2.ravel(), 'Y probability':y_prob_train_dt2[:,1]})\n",
    "df_report"
   ]
  },
  {
   "cell_type": "code",
   "execution_count": 374,
   "id": "243d2a16",
   "metadata": {},
   "outputs": [
    {
     "data": {
      "image/png": "[encoded data removed]",
      "text/plain": [
       "<IPython.core.display.Image object>"
      ]
     },
     "execution_count": 374,
     "metadata": {},
     "output_type": "execute_result"
    }
   ],
   "source": [
    "dot_data = StringIO()\n",
    "\n",
    "clf = DT_classifier2\n",
    "clf.fit(X_plot_tree.values, y.ravel())\n",
    "export_graphviz(clf, out_file=dot_data, feature_names = features, filled=True, rounded=True, special_characters=True)\n",
    "graph = pydotplus.graph_from_dot_data(dot_data.getvalue())  \n",
    "Image(graph.create_png())"
   ]
  },
  {
   "cell_type": "code",
   "execution_count": 375,
   "id": "822fc0f3",
   "metadata": {},
   "outputs": [
    {
     "name": "stdout",
     "output_type": "stream",
     "text": [
      "X_0: person_age\n",
      "X_1: person_income\n",
      "X_2: person_home_ownership\n",
      "X_3: person_emp_length\n",
      "X_4: loan_intent\n",
      "X_5: loan_grade\n",
      "X_6: loan_amnt\n",
      "X_7: loan_int_rate\n",
      "X_8: loan_percent_income\n",
      "X_9: cb_person_default_on_file\n",
      "X_10: cb_person_cred_hist_length\n"
     ]
    }
   ],
   "source": [
    "for i in range(len(X_plot_tree.columns)):\n",
    "  print('X_%s'%i, end = ': ')\n",
    "  print(X_plot_tree.columns[i])"
   ]
  },
  {
   "cell_type": "markdown",
   "id": "a6cf7f06",
   "metadata": {},
   "source": [
    "# "
   ]
  },
  {
   "cell_type": "markdown",
   "id": "5c97c31f",
   "metadata": {},
   "source": [
    "# Random Forest \n",
    "- Random Forest could be a better choice because it has a good handle with overfitting problem.\n",
    "- The number of th decision trees participating in the process could have a high accurate."
   ]
  },
  {
   "cell_type": "code",
   "execution_count": 376,
   "id": "4c59713f",
   "metadata": {},
   "outputs": [
    {
     "data": {
      "text/plain": [
       "RandomForestClassifier()"
      ]
     },
     "execution_count": 376,
     "metadata": {},
     "output_type": "execute_result"
    }
   ],
   "source": [
    "clf = RandomForestClassifier(n_estimators=100)\n",
    "clf.fit(X_train, Y_train.ravel())"
   ]
  },
  {
   "cell_type": "code",
   "execution_count": 377,
   "id": "7450f7d7",
   "metadata": {},
   "outputs": [
    {
     "name": "stdout",
     "output_type": "stream",
     "text": [
      "[[759  44]\n",
      " [ 80 315]]\n",
      "              precision    recall  f1-score   support\n",
      "\n",
      "           0       0.90      0.95      0.92       803\n",
      "           1       0.88      0.80      0.84       395\n",
      "\n",
      "    accuracy                           0.90      1198\n",
      "   macro avg       0.89      0.87      0.88      1198\n",
      "weighted avg       0.90      0.90      0.90      1198\n",
      "\n",
      "Random Forest accuracy:  0.9\n"
     ]
    }
   ],
   "source": [
    "Y_predict_clf = clf.predict(X_test)\n",
    "print(confusion_matrix(y_test,Y_predict_clf))\n",
    "print(classification_report(y_test,Y_predict_clf))\n",
    "print('Random Forest accuracy: ', round(accuracy_score(y_test, Y_predict_clf),2))"
   ]
  },
  {
   "cell_type": "code",
   "execution_count": 378,
   "id": "9f3108d5",
   "metadata": {},
   "outputs": [
    {
     "data": {
      "text/html": [
       "<div>\n",
       "<style scoped>\n",
       "    .dataframe tbody tr th:only-of-type {\n",
       "        vertical-align: middle;\n",
       "    }\n",
       "\n",
       "    .dataframe tbody tr th {\n",
       "        vertical-align: top;\n",
       "    }\n",
       "\n",
       "    .dataframe thead th {\n",
       "        text-align: right;\n",
       "    }\n",
       "</style>\n",
       "<table border=\"1\" class=\"dataframe\">\n",
       "  <thead>\n",
       "    <tr style=\"text-align: right;\">\n",
       "      <th></th>\n",
       "      <th>FeatureName</th>\n",
       "      <th>Random Forest Feature Importance</th>\n",
       "    </tr>\n",
       "  </thead>\n",
       "  <tbody>\n",
       "    <tr>\n",
       "      <th>8</th>\n",
       "      <td>loan_status</td>\n",
       "      <td>0.266830</td>\n",
       "    </tr>\n",
       "    <tr>\n",
       "      <th>1</th>\n",
       "      <td>person_income</td>\n",
       "      <td>0.187215</td>\n",
       "    </tr>\n",
       "    <tr>\n",
       "      <th>7</th>\n",
       "      <td>loan_int_rate</td>\n",
       "      <td>0.118540</td>\n",
       "    </tr>\n",
       "    <tr>\n",
       "      <th>6</th>\n",
       "      <td>loan_amnt</td>\n",
       "      <td>0.106352</td>\n",
       "    </tr>\n",
       "    <tr>\n",
       "      <th>5</th>\n",
       "      <td>loan_grade</td>\n",
       "      <td>0.099015</td>\n",
       "    </tr>\n",
       "    <tr>\n",
       "      <th>2</th>\n",
       "      <td>person_home_ownership</td>\n",
       "      <td>0.063257</td>\n",
       "    </tr>\n",
       "    <tr>\n",
       "      <th>3</th>\n",
       "      <td>person_emp_length</td>\n",
       "      <td>0.052078</td>\n",
       "    </tr>\n",
       "    <tr>\n",
       "      <th>4</th>\n",
       "      <td>loan_intent</td>\n",
       "      <td>0.045409</td>\n",
       "    </tr>\n",
       "    <tr>\n",
       "      <th>0</th>\n",
       "      <td>person_age</td>\n",
       "      <td>0.030712</td>\n",
       "    </tr>\n",
       "    <tr>\n",
       "      <th>10</th>\n",
       "      <td>cb_person_default_on_file</td>\n",
       "      <td>0.019374</td>\n",
       "    </tr>\n",
       "    <tr>\n",
       "      <th>9</th>\n",
       "      <td>loan_percent_income</td>\n",
       "      <td>0.011218</td>\n",
       "    </tr>\n",
       "  </tbody>\n",
       "</table>\n",
       "</div>"
      ],
      "text/plain": [
       "                  FeatureName  Random Forest Feature Importance\n",
       "8                 loan_status                          0.266830\n",
       "1               person_income                          0.187215\n",
       "7               loan_int_rate                          0.118540\n",
       "6                   loan_amnt                          0.106352\n",
       "5                  loan_grade                          0.099015\n",
       "2       person_home_ownership                          0.063257\n",
       "3           person_emp_length                          0.052078\n",
       "4                 loan_intent                          0.045409\n",
       "0                  person_age                          0.030712\n",
       "10  cb_person_default_on_file                          0.019374\n",
       "9         loan_percent_income                          0.011218"
      ]
     },
     "execution_count": 378,
     "metadata": {},
     "output_type": "execute_result"
    }
   ],
   "source": [
    "importance_rf = clf.feature_importances_\n",
    "features_importances_rf = pd.DataFrame({'FeatureName': df.columns[0:len(df.columns)-1], \n",
    "                                        'Random Forest Feature Importance': importance_rf})\n",
    "features_importances_rf.sort_values(by=['Random Forest Feature Importance'], ascending=False)"
   ]
  },
  {
   "cell_type": "markdown",
   "id": "2e31b797",
   "metadata": {},
   "source": [
    "# XGB Classifier"
   ]
  },
  {
   "cell_type": "code",
   "execution_count": 379,
   "id": "2877bc07",
   "metadata": {},
   "outputs": [],
   "source": [
    "import xgboost as xgb\n",
    "from xgboost.sklearn import XGBClassifier\n",
    "from sklearn.metrics import plot_roc_curve"
   ]
  },
  {
   "cell_type": "code",
   "execution_count": 380,
   "id": "a83881c6",
   "metadata": {},
   "outputs": [],
   "source": [
    "XGB_classifier = XGBClassifier()\n",
    "XGB_classifier.fit(X_train, Y_train.ravel())\n",
    "Y_predict_XGB_classifier = XGB_classifier.predict(X_test)"
   ]
  },
  {
   "cell_type": "code",
   "execution_count": 381,
   "id": "d0f13fa3",
   "metadata": {},
   "outputs": [
    {
     "name": "stdout",
     "output_type": "stream",
     "text": [
      "[[766  37]\n",
      " [ 69 326]]\n",
      "              precision    recall  f1-score   support\n",
      "\n",
      "           0       0.92      0.95      0.94       803\n",
      "           1       0.90      0.83      0.86       395\n",
      "\n",
      "    accuracy                           0.91      1198\n",
      "   macro avg       0.91      0.89      0.90      1198\n",
      "weighted avg       0.91      0.91      0.91      1198\n",
      "\n",
      "XGB accuracy:  0.91\n"
     ]
    }
   ],
   "source": [
    "accuracy = accuracy_score(y_test, Y_predict_XGB_classifier)\n",
    "precision = precision_score(y_test, Y_predict_XGB_classifier)\n",
    "recall = recall_score(y_test, Y_predict_XGB_classifier)\n",
    "fscore = f1_score(y_test, Y_predict_XGB_classifier)\n",
    "\n",
    "print(confusion_matrix(y_test,Y_predict_XGB_classifier))\n",
    "print(classification_report(y_test,Y_predict_XGB_classifier))\n",
    "print('XGB accuracy: ', round(accuracy_score(y_test, Y_predict_XGB_classifier),2))"
   ]
  },
  {
   "cell_type": "code",
   "execution_count": 382,
   "id": "b16fc708",
   "metadata": {},
   "outputs": [
    {
     "data": {
      "text/html": [
       "<div>\n",
       "<style scoped>\n",
       "    .dataframe tbody tr th:only-of-type {\n",
       "        vertical-align: middle;\n",
       "    }\n",
       "\n",
       "    .dataframe tbody tr th {\n",
       "        vertical-align: top;\n",
       "    }\n",
       "\n",
       "    .dataframe thead th {\n",
       "        text-align: right;\n",
       "    }\n",
       "</style>\n",
       "<table border=\"1\" class=\"dataframe\">\n",
       "  <thead>\n",
       "    <tr style=\"text-align: right;\">\n",
       "      <th></th>\n",
       "      <th>FeatureName</th>\n",
       "      <th>XGBoost Feature Importance</th>\n",
       "    </tr>\n",
       "  </thead>\n",
       "  <tbody>\n",
       "    <tr>\n",
       "      <th>5</th>\n",
       "      <td>loan_grade</td>\n",
       "      <td>0.278738</td>\n",
       "    </tr>\n",
       "    <tr>\n",
       "      <th>2</th>\n",
       "      <td>person_home_ownership</td>\n",
       "      <td>0.241666</td>\n",
       "    </tr>\n",
       "    <tr>\n",
       "      <th>8</th>\n",
       "      <td>loan_status</td>\n",
       "      <td>0.190662</td>\n",
       "    </tr>\n",
       "    <tr>\n",
       "      <th>1</th>\n",
       "      <td>person_income</td>\n",
       "      <td>0.069452</td>\n",
       "    </tr>\n",
       "    <tr>\n",
       "      <th>4</th>\n",
       "      <td>loan_intent</td>\n",
       "      <td>0.054319</td>\n",
       "    </tr>\n",
       "    <tr>\n",
       "      <th>3</th>\n",
       "      <td>person_emp_length</td>\n",
       "      <td>0.034613</td>\n",
       "    </tr>\n",
       "    <tr>\n",
       "      <th>0</th>\n",
       "      <td>person_age</td>\n",
       "      <td>0.032096</td>\n",
       "    </tr>\n",
       "    <tr>\n",
       "      <th>6</th>\n",
       "      <td>loan_amnt</td>\n",
       "      <td>0.027378</td>\n",
       "    </tr>\n",
       "    <tr>\n",
       "      <th>7</th>\n",
       "      <td>loan_int_rate</td>\n",
       "      <td>0.026853</td>\n",
       "    </tr>\n",
       "    <tr>\n",
       "      <th>10</th>\n",
       "      <td>cb_person_default_on_file</td>\n",
       "      <td>0.022421</td>\n",
       "    </tr>\n",
       "    <tr>\n",
       "      <th>9</th>\n",
       "      <td>loan_percent_income</td>\n",
       "      <td>0.021802</td>\n",
       "    </tr>\n",
       "  </tbody>\n",
       "</table>\n",
       "</div>"
      ],
      "text/plain": [
       "                  FeatureName  XGBoost Feature Importance\n",
       "5                  loan_grade                    0.278738\n",
       "2       person_home_ownership                    0.241666\n",
       "8                 loan_status                    0.190662\n",
       "1               person_income                    0.069452\n",
       "4                 loan_intent                    0.054319\n",
       "3           person_emp_length                    0.034613\n",
       "0                  person_age                    0.032096\n",
       "6                   loan_amnt                    0.027378\n",
       "7               loan_int_rate                    0.026853\n",
       "10  cb_person_default_on_file                    0.022421\n",
       "9         loan_percent_income                    0.021802"
      ]
     },
     "execution_count": 382,
     "metadata": {},
     "output_type": "execute_result"
    }
   ],
   "source": [
    "importance_rf = XGB_classifier.feature_importances_\n",
    "features_importances_rf = pd.DataFrame({'FeatureName': df.columns[0:len(df.columns)-1], \n",
    "                                        'XGBoost Feature Importance': importance_rf})\n",
    "features_importances_rf.sort_values(by=['XGBoost Feature Importance'], ascending=False)"
   ]
  },
  {
   "cell_type": "markdown",
   "id": "24835458",
   "metadata": {},
   "source": [
    "# Resampling"
   ]
  },
  {
   "cell_type": "code",
   "execution_count": 383,
   "id": "c25cabf6",
   "metadata": {},
   "outputs": [
    {
     "name": "stdout",
     "output_type": "stream",
     "text": [
      "Target:  ['loan_status']\n",
      "Features:  ['person_emp_length', 'cb_person_cred_hist_length', 'person_age', 'loan_percent_income', 'loan_intent', 'loan_grade', 'loan_int_rate', 'loan_amnt', 'person_income', 'person_home_ownership', 'cb_person_default_on_file']\n"
     ]
    }
   ],
   "source": [
    "#classify target variables and attributes\n",
    "target = ['loan_status']\n",
    "features = list(set(list(df.columns)) - set(target))\n",
    "\n",
    "print('Target: ', target)\n",
    "print('Features: ', features)"
   ]
  },
  {
   "cell_type": "code",
   "execution_count": 384,
   "id": "2b3c4e03",
   "metadata": {},
   "outputs": [],
   "source": [
    "X = df[features]\n",
    "y = df[target]\n",
    "X_train, X_test, y_train, y_test = train_test_split(X, y, test_size = 0.1, random_state=42)"
   ]
  },
  {
   "cell_type": "code",
   "execution_count": 385,
   "id": "8f060cd7",
   "metadata": {},
   "outputs": [],
   "source": [
    "from sklearn.model_selection import cross_val_score"
   ]
  },
  {
   "cell_type": "code",
   "execution_count": 386,
   "id": "588badb0",
   "metadata": {},
   "outputs": [
    {
     "name": "stderr",
     "output_type": "stream",
     "text": [
      "C:\\Users\\Admin\\anaconda3\\lib\\site-packages\\sklearn\\utils\\validation.py:993: DataConversionWarning: A column-vector y was passed when a 1d array was expected. Please change the shape of y to (n_samples, ), for example using ravel().\n",
      "  y = column_or_1d(y, warn=True)\n",
      "C:\\Users\\Admin\\anaconda3\\lib\\site-packages\\sklearn\\utils\\validation.py:993: DataConversionWarning: A column-vector y was passed when a 1d array was expected. Please change the shape of y to (n_samples, ), for example using ravel().\n",
      "  y = column_or_1d(y, warn=True)\n",
      "C:\\Users\\Admin\\anaconda3\\lib\\site-packages\\sklearn\\utils\\validation.py:993: DataConversionWarning: A column-vector y was passed when a 1d array was expected. Please change the shape of y to (n_samples, ), for example using ravel().\n",
      "  y = column_or_1d(y, warn=True)\n",
      "C:\\Users\\Admin\\anaconda3\\lib\\site-packages\\sklearn\\utils\\validation.py:993: DataConversionWarning: A column-vector y was passed when a 1d array was expected. Please change the shape of y to (n_samples, ), for example using ravel().\n",
      "  y = column_or_1d(y, warn=True)\n",
      "C:\\Users\\Admin\\anaconda3\\lib\\site-packages\\sklearn\\utils\\validation.py:993: DataConversionWarning: A column-vector y was passed when a 1d array was expected. Please change the shape of y to (n_samples, ), for example using ravel().\n",
      "  y = column_or_1d(y, warn=True)\n",
      "C:\\Users\\Admin\\anaconda3\\lib\\site-packages\\sklearn\\utils\\validation.py:993: DataConversionWarning: A column-vector y was passed when a 1d array was expected. Please change the shape of y to (n_samples, ), for example using ravel().\n",
      "  y = column_or_1d(y, warn=True)\n",
      "C:\\Users\\Admin\\anaconda3\\lib\\site-packages\\sklearn\\utils\\validation.py:993: DataConversionWarning: A column-vector y was passed when a 1d array was expected. Please change the shape of y to (n_samples, ), for example using ravel().\n",
      "  y = column_or_1d(y, warn=True)\n",
      "C:\\Users\\Admin\\anaconda3\\lib\\site-packages\\sklearn\\utils\\validation.py:993: DataConversionWarning: A column-vector y was passed when a 1d array was expected. Please change the shape of y to (n_samples, ), for example using ravel().\n",
      "  y = column_or_1d(y, warn=True)\n",
      "C:\\Users\\Admin\\anaconda3\\lib\\site-packages\\sklearn\\utils\\validation.py:993: DataConversionWarning: A column-vector y was passed when a 1d array was expected. Please change the shape of y to (n_samples, ), for example using ravel().\n",
      "  y = column_or_1d(y, warn=True)\n",
      "C:\\Users\\Admin\\anaconda3\\lib\\site-packages\\sklearn\\linear_model\\_logistic.py:814: ConvergenceWarning: lbfgs failed to converge (status=1):\n",
      "STOP: TOTAL NO. of ITERATIONS REACHED LIMIT.\n",
      "\n",
      "Increase the number of iterations (max_iter) or scale the data as shown in:\n",
      "    https://scikit-learn.org/stable/modules/preprocessing.html\n",
      "Please also refer to the documentation for alternative solver options:\n",
      "    https://scikit-learn.org/stable/modules/linear_model.html#logistic-regression\n",
      "  n_iter_i = _check_optimize_result(\n",
      "C:\\Users\\Admin\\anaconda3\\lib\\site-packages\\sklearn\\utils\\validation.py:993: DataConversionWarning: A column-vector y was passed when a 1d array was expected. Please change the shape of y to (n_samples, ), for example using ravel().\n",
      "  y = column_or_1d(y, warn=True)\n",
      "C:\\Users\\Admin\\anaconda3\\lib\\site-packages\\sklearn\\model_selection\\_validation.py:680: DataConversionWarning: A column-vector y was passed when a 1d array was expected. Please change the shape of y to (n_samples,), for example using ravel().\n",
      "  estimator.fit(X_train, y_train, **fit_params)\n",
      "C:\\Users\\Admin\\anaconda3\\lib\\site-packages\\sklearn\\model_selection\\_validation.py:680: DataConversionWarning: A column-vector y was passed when a 1d array was expected. Please change the shape of y to (n_samples,), for example using ravel().\n",
      "  estimator.fit(X_train, y_train, **fit_params)\n",
      "C:\\Users\\Admin\\anaconda3\\lib\\site-packages\\sklearn\\model_selection\\_validation.py:680: DataConversionWarning: A column-vector y was passed when a 1d array was expected. Please change the shape of y to (n_samples,), for example using ravel().\n",
      "  estimator.fit(X_train, y_train, **fit_params)\n",
      "C:\\Users\\Admin\\anaconda3\\lib\\site-packages\\sklearn\\model_selection\\_validation.py:680: DataConversionWarning: A column-vector y was passed when a 1d array was expected. Please change the shape of y to (n_samples,), for example using ravel().\n",
      "  estimator.fit(X_train, y_train, **fit_params)\n",
      "C:\\Users\\Admin\\anaconda3\\lib\\site-packages\\sklearn\\model_selection\\_validation.py:680: DataConversionWarning: A column-vector y was passed when a 1d array was expected. Please change the shape of y to (n_samples,), for example using ravel().\n",
      "  estimator.fit(X_train, y_train, **fit_params)\n",
      "C:\\Users\\Admin\\anaconda3\\lib\\site-packages\\sklearn\\model_selection\\_validation.py:680: DataConversionWarning: A column-vector y was passed when a 1d array was expected. Please change the shape of y to (n_samples,), for example using ravel().\n",
      "  estimator.fit(X_train, y_train, **fit_params)\n",
      "C:\\Users\\Admin\\anaconda3\\lib\\site-packages\\sklearn\\model_selection\\_validation.py:680: DataConversionWarning: A column-vector y was passed when a 1d array was expected. Please change the shape of y to (n_samples,), for example using ravel().\n",
      "  estimator.fit(X_train, y_train, **fit_params)\n",
      "C:\\Users\\Admin\\anaconda3\\lib\\site-packages\\sklearn\\model_selection\\_validation.py:680: DataConversionWarning: A column-vector y was passed when a 1d array was expected. Please change the shape of y to (n_samples,), for example using ravel().\n",
      "  estimator.fit(X_train, y_train, **fit_params)\n",
      "C:\\Users\\Admin\\anaconda3\\lib\\site-packages\\sklearn\\model_selection\\_validation.py:680: DataConversionWarning: A column-vector y was passed when a 1d array was expected. Please change the shape of y to (n_samples,), for example using ravel().\n",
      "  estimator.fit(X_train, y_train, **fit_params)\n",
      "C:\\Users\\Admin\\anaconda3\\lib\\site-packages\\sklearn\\model_selection\\_validation.py:680: DataConversionWarning: A column-vector y was passed when a 1d array was expected. Please change the shape of y to (n_samples,), for example using ravel().\n",
      "  estimator.fit(X_train, y_train, **fit_params)\n"
     ]
    },
    {
     "data": {
      "image/png": "[encoded data removed]",
      "text/plain": [
       "<Figure size 640x480 with 1 Axes>"
      ]
     },
     "metadata": {},
     "output_type": "display_data"
    }
   ],
   "source": [
    "models = [\n",
    "    ('Logistic Regression', LogisticRegression()),\n",
    "    ('XGB', XGBClassifier()),\n",
    "    ('Decision Tree', DecisionTreeClassifier()),\n",
    "    ('Random Forest', RandomForestClassifier())\n",
    "]\n",
    "\n",
    "# Evaluate each model on the test set using 10-fold cross-validation and store the results\n",
    "results = []\n",
    "names = []\n",
    "for name, model in models:\n",
    "    cv_results = cross_val_score(model, X_train, y_train, cv=10, scoring='accuracy')\n",
    "    results.append(cv_results)\n",
    "    names.append(name)\n",
    "\n",
    "# Generate a boxplot comparing the model performance\n",
    "fig = plt.figure()\n",
    "fig.suptitle('Machine Learning Algorithm Comparison')\n",
    "ax = fig.add_subplot(111)\n",
    "plt.boxplot(results)\n",
    "ax.set_xticklabels(names)\n",
    "plt.xlabel('Algorithm')\n",
    "plt.ylabel('Accuracy')\n",
    "plt.show()"
   ]
  },
  {
   "cell_type": "markdown",
   "id": "5cbd645f",
   "metadata": {},
   "source": [
    "# 1. Over sampling"
   ]
  },
  {
   "cell_type": "code",
   "execution_count": 387,
   "id": "b1a99bc7",
   "metadata": {},
   "outputs": [],
   "source": [
    "X_train_over, y_train_over = oversample.fit_resample(X_train, y_train)"
   ]
  },
  {
   "cell_type": "code",
   "execution_count": 388,
   "id": "426334dd",
   "metadata": {},
   "outputs": [
    {
     "data": {
      "text/html": [
       "<div>\n",
       "<style scoped>\n",
       "    .dataframe tbody tr th:only-of-type {\n",
       "        vertical-align: middle;\n",
       "    }\n",
       "\n",
       "    .dataframe tbody tr th {\n",
       "        vertical-align: top;\n",
       "    }\n",
       "\n",
       "    .dataframe thead th {\n",
       "        text-align: right;\n",
       "    }\n",
       "</style>\n",
       "<table border=\"1\" class=\"dataframe\">\n",
       "  <thead>\n",
       "    <tr style=\"text-align: right;\">\n",
       "      <th></th>\n",
       "      <th>person_emp_length</th>\n",
       "      <th>cb_person_cred_hist_length</th>\n",
       "      <th>person_age</th>\n",
       "      <th>loan_percent_income</th>\n",
       "      <th>loan_intent</th>\n",
       "      <th>loan_grade</th>\n",
       "      <th>loan_int_rate</th>\n",
       "      <th>loan_amnt</th>\n",
       "      <th>person_income</th>\n",
       "      <th>person_home_ownership</th>\n",
       "      <th>cb_person_default_on_file</th>\n",
       "    </tr>\n",
       "  </thead>\n",
       "  <tbody>\n",
       "    <tr>\n",
       "      <th>0</th>\n",
       "      <td>3.000000</td>\n",
       "      <td>2</td>\n",
       "      <td>22</td>\n",
       "      <td>0.270000</td>\n",
       "      <td>1</td>\n",
       "      <td>2</td>\n",
       "      <td>13.490000</td>\n",
       "      <td>8000</td>\n",
       "      <td>30000</td>\n",
       "      <td>2</td>\n",
       "      <td>0</td>\n",
       "    </tr>\n",
       "    <tr>\n",
       "      <th>1</th>\n",
       "      <td>3.622972</td>\n",
       "      <td>3</td>\n",
       "      <td>22</td>\n",
       "      <td>0.170000</td>\n",
       "      <td>1</td>\n",
       "      <td>1</td>\n",
       "      <td>10.000000</td>\n",
       "      <td>5125</td>\n",
       "      <td>30000</td>\n",
       "      <td>2</td>\n",
       "      <td>0</td>\n",
       "    </tr>\n",
       "    <tr>\n",
       "      <th>2</th>\n",
       "      <td>6.000000</td>\n",
       "      <td>2</td>\n",
       "      <td>22</td>\n",
       "      <td>0.070000</td>\n",
       "      <td>3</td>\n",
       "      <td>3</td>\n",
       "      <td>15.620000</td>\n",
       "      <td>2500</td>\n",
       "      <td>35500</td>\n",
       "      <td>3</td>\n",
       "      <td>0</td>\n",
       "    </tr>\n",
       "    <tr>\n",
       "      <th>3</th>\n",
       "      <td>0.000000</td>\n",
       "      <td>2</td>\n",
       "      <td>22</td>\n",
       "      <td>0.030000</td>\n",
       "      <td>0</td>\n",
       "      <td>2</td>\n",
       "      <td>13.980000</td>\n",
       "      <td>1000</td>\n",
       "      <td>35100</td>\n",
       "      <td>3</td>\n",
       "      <td>0</td>\n",
       "    </tr>\n",
       "    <tr>\n",
       "      <th>4</th>\n",
       "      <td>7.000000</td>\n",
       "      <td>3</td>\n",
       "      <td>23</td>\n",
       "      <td>0.360000</td>\n",
       "      <td>0</td>\n",
       "      <td>1</td>\n",
       "      <td>11.990000</td>\n",
       "      <td>16750</td>\n",
       "      <td>46272</td>\n",
       "      <td>3</td>\n",
       "      <td>0</td>\n",
       "    </tr>\n",
       "    <tr>\n",
       "      <th>...</th>\n",
       "      <td>...</td>\n",
       "      <td>...</td>\n",
       "      <td>...</td>\n",
       "      <td>...</td>\n",
       "      <td>...</td>\n",
       "      <td>...</td>\n",
       "      <td>...</td>\n",
       "      <td>...</td>\n",
       "      <td>...</td>\n",
       "      <td>...</td>\n",
       "      <td>...</td>\n",
       "    </tr>\n",
       "    <tr>\n",
       "      <th>4817</th>\n",
       "      <td>3.519007</td>\n",
       "      <td>3</td>\n",
       "      <td>22</td>\n",
       "      <td>0.266662</td>\n",
       "      <td>0</td>\n",
       "      <td>2</td>\n",
       "      <td>15.819384</td>\n",
       "      <td>8833</td>\n",
       "      <td>32950</td>\n",
       "      <td>0</td>\n",
       "      <td>1</td>\n",
       "    </tr>\n",
       "    <tr>\n",
       "      <th>4818</th>\n",
       "      <td>1.475595</td>\n",
       "      <td>2</td>\n",
       "      <td>24</td>\n",
       "      <td>0.080000</td>\n",
       "      <td>2</td>\n",
       "      <td>2</td>\n",
       "      <td>14.261867</td>\n",
       "      <td>2000</td>\n",
       "      <td>24000</td>\n",
       "      <td>3</td>\n",
       "      <td>0</td>\n",
       "    </tr>\n",
       "    <tr>\n",
       "      <th>4819</th>\n",
       "      <td>1.387674</td>\n",
       "      <td>2</td>\n",
       "      <td>23</td>\n",
       "      <td>0.313877</td>\n",
       "      <td>2</td>\n",
       "      <td>2</td>\n",
       "      <td>13.425526</td>\n",
       "      <td>10155</td>\n",
       "      <td>32032</td>\n",
       "      <td>1</td>\n",
       "      <td>0</td>\n",
       "    </tr>\n",
       "    <tr>\n",
       "      <th>4820</th>\n",
       "      <td>0.000000</td>\n",
       "      <td>3</td>\n",
       "      <td>24</td>\n",
       "      <td>0.310000</td>\n",
       "      <td>2</td>\n",
       "      <td>2</td>\n",
       "      <td>10.946695</td>\n",
       "      <td>20000</td>\n",
       "      <td>64402</td>\n",
       "      <td>3</td>\n",
       "      <td>0</td>\n",
       "    </tr>\n",
       "    <tr>\n",
       "      <th>4821</th>\n",
       "      <td>3.628688</td>\n",
       "      <td>3</td>\n",
       "      <td>21</td>\n",
       "      <td>0.050000</td>\n",
       "      <td>3</td>\n",
       "      <td>1</td>\n",
       "      <td>13.144771</td>\n",
       "      <td>1718</td>\n",
       "      <td>32387</td>\n",
       "      <td>0</td>\n",
       "      <td>0</td>\n",
       "    </tr>\n",
       "  </tbody>\n",
       "</table>\n",
       "<p>4822 rows × 11 columns</p>\n",
       "</div>"
      ],
      "text/plain": [
       "      person_emp_length  cb_person_cred_hist_length  person_age  \\\n",
       "0              3.000000                           2          22   \n",
       "1              3.622972                           3          22   \n",
       "2              6.000000                           2          22   \n",
       "3              0.000000                           2          22   \n",
       "4              7.000000                           3          23   \n",
       "...                 ...                         ...         ...   \n",
       "4817           3.519007                           3          22   \n",
       "4818           1.475595                           2          24   \n",
       "4819           1.387674                           2          23   \n",
       "4820           0.000000                           3          24   \n",
       "4821           3.628688                           3          21   \n",
       "\n",
       "      loan_percent_income  loan_intent  loan_grade  loan_int_rate  loan_amnt  \\\n",
       "0                0.270000            1           2      13.490000       8000   \n",
       "1                0.170000            1           1      10.000000       5125   \n",
       "2                0.070000            3           3      15.620000       2500   \n",
       "3                0.030000            0           2      13.980000       1000   \n",
       "4                0.360000            0           1      11.990000      16750   \n",
       "...                   ...          ...         ...            ...        ...   \n",
       "4817             0.266662            0           2      15.819384       8833   \n",
       "4818             0.080000            2           2      14.261867       2000   \n",
       "4819             0.313877            2           2      13.425526      10155   \n",
       "4820             0.310000            2           2      10.946695      20000   \n",
       "4821             0.050000            3           1      13.144771       1718   \n",
       "\n",
       "      person_income  person_home_ownership  cb_person_default_on_file  \n",
       "0             30000                      2                          0  \n",
       "1             30000                      2                          0  \n",
       "2             35500                      3                          0  \n",
       "3             35100                      3                          0  \n",
       "4             46272                      3                          0  \n",
       "...             ...                    ...                        ...  \n",
       "4817          32950                      0                          1  \n",
       "4818          24000                      3                          0  \n",
       "4819          32032                      1                          0  \n",
       "4820          64402                      3                          0  \n",
       "4821          32387                      0                          0  \n",
       "\n",
       "[4822 rows x 11 columns]"
      ]
     },
     "execution_count": 388,
     "metadata": {},
     "output_type": "execute_result"
    }
   ],
   "source": [
    "X_train_over "
   ]
  },
  {
   "cell_type": "code",
   "execution_count": 389,
   "id": "a94f9d66",
   "metadata": {},
   "outputs": [
    {
     "data": {
      "text/html": [
       "<div>\n",
       "<style scoped>\n",
       "    .dataframe tbody tr th:only-of-type {\n",
       "        vertical-align: middle;\n",
       "    }\n",
       "\n",
       "    .dataframe tbody tr th {\n",
       "        vertical-align: top;\n",
       "    }\n",
       "\n",
       "    .dataframe thead th {\n",
       "        text-align: right;\n",
       "    }\n",
       "</style>\n",
       "<table border=\"1\" class=\"dataframe\">\n",
       "  <thead>\n",
       "    <tr style=\"text-align: right;\">\n",
       "      <th></th>\n",
       "      <th>loan_status</th>\n",
       "    </tr>\n",
       "  </thead>\n",
       "  <tbody>\n",
       "    <tr>\n",
       "      <th>0</th>\n",
       "      <td>0</td>\n",
       "    </tr>\n",
       "    <tr>\n",
       "      <th>1</th>\n",
       "      <td>0</td>\n",
       "    </tr>\n",
       "    <tr>\n",
       "      <th>2</th>\n",
       "      <td>1</td>\n",
       "    </tr>\n",
       "    <tr>\n",
       "      <th>3</th>\n",
       "      <td>0</td>\n",
       "    </tr>\n",
       "    <tr>\n",
       "      <th>4</th>\n",
       "      <td>1</td>\n",
       "    </tr>\n",
       "    <tr>\n",
       "      <th>...</th>\n",
       "      <td>...</td>\n",
       "    </tr>\n",
       "    <tr>\n",
       "      <th>4817</th>\n",
       "      <td>1</td>\n",
       "    </tr>\n",
       "    <tr>\n",
       "      <th>4818</th>\n",
       "      <td>1</td>\n",
       "    </tr>\n",
       "    <tr>\n",
       "      <th>4819</th>\n",
       "      <td>1</td>\n",
       "    </tr>\n",
       "    <tr>\n",
       "      <th>4820</th>\n",
       "      <td>1</td>\n",
       "    </tr>\n",
       "    <tr>\n",
       "      <th>4821</th>\n",
       "      <td>1</td>\n",
       "    </tr>\n",
       "  </tbody>\n",
       "</table>\n",
       "<p>4822 rows × 1 columns</p>\n",
       "</div>"
      ],
      "text/plain": [
       "      loan_status\n",
       "0               0\n",
       "1               0\n",
       "2               1\n",
       "3               0\n",
       "4               1\n",
       "...           ...\n",
       "4817            1\n",
       "4818            1\n",
       "4819            1\n",
       "4820            1\n",
       "4821            1\n",
       "\n",
       "[4822 rows x 1 columns]"
      ]
     },
     "execution_count": 389,
     "metadata": {},
     "output_type": "execute_result"
    }
   ],
   "source": [
    "y_train_over"
   ]
  },
  {
   "cell_type": "code",
   "execution_count": 390,
   "id": "1dcee621",
   "metadata": {},
   "outputs": [
    {
     "data": {
      "text/plain": [
       "loan_status\n",
       "0              2411\n",
       "1              2411\n",
       "dtype: int64"
      ]
     },
     "execution_count": 390,
     "metadata": {},
     "output_type": "execute_result"
    }
   ],
   "source": [
    "y_train_over.value_counts()"
   ]
  },
  {
   "cell_type": "code",
   "execution_count": 391,
   "id": "a052b02f",
   "metadata": {},
   "outputs": [
    {
     "name": "stdout",
     "output_type": "stream",
     "text": [
      "Predict on testing set\n",
      "[[193  48]\n",
      " [ 42 117]]\n",
      "              precision    recall  f1-score   support\n",
      "\n",
      "           0       0.82      0.80      0.81       241\n",
      "           1       0.71      0.74      0.72       159\n",
      "\n",
      "    accuracy                           0.78       400\n",
      "   macro avg       0.77      0.77      0.77       400\n",
      "weighted avg       0.78      0.78      0.78       400\n",
      "\n",
      "Logistic Regression accuracy:  0.775\n"
     ]
    },
    {
     "name": "stderr",
     "output_type": "stream",
     "text": [
      "C:\\Users\\Admin\\anaconda3\\lib\\site-packages\\sklearn\\base.py:443: UserWarning: X has feature names, but LogisticRegression was fitted without feature names\n",
      "  warnings.warn(\n"
     ]
    }
   ],
   "source": [
    "print('Predict on testing set')\n",
    "classifier = LogisticRegression()\n",
    "classifier.fit(X_train_over.values, y_train_over.values.ravel())\n",
    "\n",
    "y_pred = classifier.predict(X_test)\n",
    "print(confusion_matrix(y_test,y_pred))\n",
    "print(classification_report(y_test,y_pred))\n",
    "print('Logistic Regression accuracy: ', accuracy_score(y_test, y_pred))"
   ]
  },
  {
   "cell_type": "markdown",
   "id": "b5a0be0d",
   "metadata": {},
   "source": [
    "# 2. Under Sampling"
   ]
  },
  {
   "cell_type": "code",
   "execution_count": 392,
   "id": "7904e93f",
   "metadata": {},
   "outputs": [],
   "source": [
    "# define undersample strategy\n",
    "undersample = RandomUnderSampler(sampling_strategy='majority')"
   ]
  },
  {
   "cell_type": "code",
   "execution_count": 393,
   "id": "ec111bb1",
   "metadata": {},
   "outputs": [],
   "source": [
    "# fit and apply the transform\n",
    "X_train_under, y_train_under = undersample.fit_resample(X, y)"
   ]
  },
  {
   "cell_type": "code",
   "execution_count": 394,
   "id": "80954ccc",
   "metadata": {},
   "outputs": [],
   "source": [
    "# fit and apply the transform\n",
    "X_train_under, y_train_under = undersample.fit_resample(X, y)"
   ]
  },
  {
   "cell_type": "code",
   "execution_count": 395,
   "id": "390c236d",
   "metadata": {},
   "outputs": [
    {
     "data": {
      "text/html": [
       "<div>\n",
       "<style scoped>\n",
       "    .dataframe tbody tr th:only-of-type {\n",
       "        vertical-align: middle;\n",
       "    }\n",
       "\n",
       "    .dataframe tbody tr th {\n",
       "        vertical-align: top;\n",
       "    }\n",
       "\n",
       "    .dataframe thead th {\n",
       "        text-align: right;\n",
       "    }\n",
       "</style>\n",
       "<table border=\"1\" class=\"dataframe\">\n",
       "  <thead>\n",
       "    <tr style=\"text-align: right;\">\n",
       "      <th></th>\n",
       "      <th>person_emp_length</th>\n",
       "      <th>cb_person_cred_hist_length</th>\n",
       "      <th>person_age</th>\n",
       "      <th>loan_percent_income</th>\n",
       "      <th>loan_intent</th>\n",
       "      <th>loan_grade</th>\n",
       "      <th>loan_int_rate</th>\n",
       "      <th>loan_amnt</th>\n",
       "      <th>person_income</th>\n",
       "      <th>person_home_ownership</th>\n",
       "      <th>cb_person_default_on_file</th>\n",
       "    </tr>\n",
       "  </thead>\n",
       "  <tbody>\n",
       "    <tr>\n",
       "      <th>0</th>\n",
       "      <td>7.0</td>\n",
       "      <td>3</td>\n",
       "      <td>23</td>\n",
       "      <td>0.03</td>\n",
       "      <td>1</td>\n",
       "      <td>0</td>\n",
       "      <td>7.90</td>\n",
       "      <td>1000</td>\n",
       "      <td>28600</td>\n",
       "      <td>3</td>\n",
       "      <td>0</td>\n",
       "    </tr>\n",
       "    <tr>\n",
       "      <th>1</th>\n",
       "      <td>9.0</td>\n",
       "      <td>3</td>\n",
       "      <td>25</td>\n",
       "      <td>0.29</td>\n",
       "      <td>0</td>\n",
       "      <td>1</td>\n",
       "      <td>12.42</td>\n",
       "      <td>10000</td>\n",
       "      <td>34000</td>\n",
       "      <td>0</td>\n",
       "      <td>0</td>\n",
       "    </tr>\n",
       "    <tr>\n",
       "      <th>2</th>\n",
       "      <td>5.0</td>\n",
       "      <td>4</td>\n",
       "      <td>21</td>\n",
       "      <td>0.12</td>\n",
       "      <td>3</td>\n",
       "      <td>1</td>\n",
       "      <td>11.49</td>\n",
       "      <td>2400</td>\n",
       "      <td>20400</td>\n",
       "      <td>2</td>\n",
       "      <td>0</td>\n",
       "    </tr>\n",
       "    <tr>\n",
       "      <th>3</th>\n",
       "      <td>1.0</td>\n",
       "      <td>3</td>\n",
       "      <td>26</td>\n",
       "      <td>0.04</td>\n",
       "      <td>3</td>\n",
       "      <td>2</td>\n",
       "      <td>14.65</td>\n",
       "      <td>1000</td>\n",
       "      <td>25000</td>\n",
       "      <td>3</td>\n",
       "      <td>1</td>\n",
       "    </tr>\n",
       "    <tr>\n",
       "      <th>4</th>\n",
       "      <td>5.0</td>\n",
       "      <td>3</td>\n",
       "      <td>21</td>\n",
       "      <td>0.10</td>\n",
       "      <td>5</td>\n",
       "      <td>2</td>\n",
       "      <td>13.49</td>\n",
       "      <td>3375</td>\n",
       "      <td>33000</td>\n",
       "      <td>3</td>\n",
       "      <td>1</td>\n",
       "    </tr>\n",
       "    <tr>\n",
       "      <th>...</th>\n",
       "      <td>...</td>\n",
       "      <td>...</td>\n",
       "      <td>...</td>\n",
       "      <td>...</td>\n",
       "      <td>...</td>\n",
       "      <td>...</td>\n",
       "      <td>...</td>\n",
       "      <td>...</td>\n",
       "      <td>...</td>\n",
       "      <td>...</td>\n",
       "      <td>...</td>\n",
       "    </tr>\n",
       "    <tr>\n",
       "      <th>2677</th>\n",
       "      <td>6.0</td>\n",
       "      <td>4</td>\n",
       "      <td>22</td>\n",
       "      <td>0.09</td>\n",
       "      <td>2</td>\n",
       "      <td>0</td>\n",
       "      <td>5.99</td>\n",
       "      <td>4000</td>\n",
       "      <td>44582</td>\n",
       "      <td>3</td>\n",
       "      <td>0</td>\n",
       "    </tr>\n",
       "    <tr>\n",
       "      <th>2678</th>\n",
       "      <td>0.0</td>\n",
       "      <td>4</td>\n",
       "      <td>24</td>\n",
       "      <td>0.09</td>\n",
       "      <td>0</td>\n",
       "      <td>3</td>\n",
       "      <td>15.99</td>\n",
       "      <td>4000</td>\n",
       "      <td>45000</td>\n",
       "      <td>3</td>\n",
       "      <td>0</td>\n",
       "    </tr>\n",
       "    <tr>\n",
       "      <th>2679</th>\n",
       "      <td>0.0</td>\n",
       "      <td>3</td>\n",
       "      <td>23</td>\n",
       "      <td>0.09</td>\n",
       "      <td>0</td>\n",
       "      <td>4</td>\n",
       "      <td>19.29</td>\n",
       "      <td>4000</td>\n",
       "      <td>45630</td>\n",
       "      <td>3</td>\n",
       "      <td>1</td>\n",
       "    </tr>\n",
       "    <tr>\n",
       "      <th>2680</th>\n",
       "      <td>9.0</td>\n",
       "      <td>3</td>\n",
       "      <td>25</td>\n",
       "      <td>0.09</td>\n",
       "      <td>0</td>\n",
       "      <td>3</td>\n",
       "      <td>16.32</td>\n",
       "      <td>4000</td>\n",
       "      <td>46392</td>\n",
       "      <td>3</td>\n",
       "      <td>1</td>\n",
       "    </tr>\n",
       "    <tr>\n",
       "      <th>2681</th>\n",
       "      <td>8.0</td>\n",
       "      <td>3</td>\n",
       "      <td>23</td>\n",
       "      <td>0.08</td>\n",
       "      <td>4</td>\n",
       "      <td>1</td>\n",
       "      <td>10.37</td>\n",
       "      <td>4000</td>\n",
       "      <td>48000</td>\n",
       "      <td>3</td>\n",
       "      <td>0</td>\n",
       "    </tr>\n",
       "  </tbody>\n",
       "</table>\n",
       "<p>2682 rows × 11 columns</p>\n",
       "</div>"
      ],
      "text/plain": [
       "      person_emp_length  cb_person_cred_hist_length  person_age  \\\n",
       "0                   7.0                           3          23   \n",
       "1                   9.0                           3          25   \n",
       "2                   5.0                           4          21   \n",
       "3                   1.0                           3          26   \n",
       "4                   5.0                           3          21   \n",
       "...                 ...                         ...         ...   \n",
       "2677                6.0                           4          22   \n",
       "2678                0.0                           4          24   \n",
       "2679                0.0                           3          23   \n",
       "2680                9.0                           3          25   \n",
       "2681                8.0                           3          23   \n",
       "\n",
       "      loan_percent_income  loan_intent  loan_grade  loan_int_rate  loan_amnt  \\\n",
       "0                    0.03            1           0           7.90       1000   \n",
       "1                    0.29            0           1          12.42      10000   \n",
       "2                    0.12            3           1          11.49       2400   \n",
       "3                    0.04            3           2          14.65       1000   \n",
       "4                    0.10            5           2          13.49       3375   \n",
       "...                   ...          ...         ...            ...        ...   \n",
       "2677                 0.09            2           0           5.99       4000   \n",
       "2678                 0.09            0           3          15.99       4000   \n",
       "2679                 0.09            0           4          19.29       4000   \n",
       "2680                 0.09            0           3          16.32       4000   \n",
       "2681                 0.08            4           1          10.37       4000   \n",
       "\n",
       "      person_income  person_home_ownership  cb_person_default_on_file  \n",
       "0             28600                      3                          0  \n",
       "1             34000                      0                          0  \n",
       "2             20400                      2                          0  \n",
       "3             25000                      3                          1  \n",
       "4             33000                      3                          1  \n",
       "...             ...                    ...                        ...  \n",
       "2677          44582                      3                          0  \n",
       "2678          45000                      3                          0  \n",
       "2679          45630                      3                          1  \n",
       "2680          46392                      3                          1  \n",
       "2681          48000                      3                          0  \n",
       "\n",
       "[2682 rows x 11 columns]"
      ]
     },
     "execution_count": 395,
     "metadata": {},
     "output_type": "execute_result"
    }
   ],
   "source": [
    "X_train_under"
   ]
  },
  {
   "cell_type": "code",
   "execution_count": 396,
   "id": "1d8fdd6b",
   "metadata": {},
   "outputs": [
    {
     "data": {
      "text/html": [
       "<div>\n",
       "<style scoped>\n",
       "    .dataframe tbody tr th:only-of-type {\n",
       "        vertical-align: middle;\n",
       "    }\n",
       "\n",
       "    .dataframe tbody tr th {\n",
       "        vertical-align: top;\n",
       "    }\n",
       "\n",
       "    .dataframe thead th {\n",
       "        text-align: right;\n",
       "    }\n",
       "</style>\n",
       "<table border=\"1\" class=\"dataframe\">\n",
       "  <thead>\n",
       "    <tr style=\"text-align: right;\">\n",
       "      <th></th>\n",
       "      <th>loan_status</th>\n",
       "    </tr>\n",
       "  </thead>\n",
       "  <tbody>\n",
       "    <tr>\n",
       "      <th>0</th>\n",
       "      <td>0</td>\n",
       "    </tr>\n",
       "    <tr>\n",
       "      <th>1</th>\n",
       "      <td>0</td>\n",
       "    </tr>\n",
       "    <tr>\n",
       "      <th>2</th>\n",
       "      <td>0</td>\n",
       "    </tr>\n",
       "    <tr>\n",
       "      <th>3</th>\n",
       "      <td>0</td>\n",
       "    </tr>\n",
       "    <tr>\n",
       "      <th>4</th>\n",
       "      <td>0</td>\n",
       "    </tr>\n",
       "    <tr>\n",
       "      <th>...</th>\n",
       "      <td>...</td>\n",
       "    </tr>\n",
       "    <tr>\n",
       "      <th>2677</th>\n",
       "      <td>1</td>\n",
       "    </tr>\n",
       "    <tr>\n",
       "      <th>2678</th>\n",
       "      <td>1</td>\n",
       "    </tr>\n",
       "    <tr>\n",
       "      <th>2679</th>\n",
       "      <td>1</td>\n",
       "    </tr>\n",
       "    <tr>\n",
       "      <th>2680</th>\n",
       "      <td>1</td>\n",
       "    </tr>\n",
       "    <tr>\n",
       "      <th>2681</th>\n",
       "      <td>1</td>\n",
       "    </tr>\n",
       "  </tbody>\n",
       "</table>\n",
       "<p>2682 rows × 1 columns</p>\n",
       "</div>"
      ],
      "text/plain": [
       "      loan_status\n",
       "0               0\n",
       "1               0\n",
       "2               0\n",
       "3               0\n",
       "4               0\n",
       "...           ...\n",
       "2677            1\n",
       "2678            1\n",
       "2679            1\n",
       "2680            1\n",
       "2681            1\n",
       "\n",
       "[2682 rows x 1 columns]"
      ]
     },
     "execution_count": 396,
     "metadata": {},
     "output_type": "execute_result"
    }
   ],
   "source": [
    "y_train_under"
   ]
  },
  {
   "cell_type": "code",
   "execution_count": 397,
   "id": "d8f79c67",
   "metadata": {},
   "outputs": [
    {
     "data": {
      "text/plain": [
       "loan_status\n",
       "0              1341\n",
       "1              1341\n",
       "dtype: int64"
      ]
     },
     "execution_count": 397,
     "metadata": {},
     "output_type": "execute_result"
    }
   ],
   "source": [
    "y_train_under.value_counts()"
   ]
  },
  {
   "cell_type": "code",
   "execution_count": 398,
   "id": "a2667e8c",
   "metadata": {
    "scrolled": true
   },
   "outputs": [
    {
     "name": "stdout",
     "output_type": "stream",
     "text": [
      "[[ 985  356]\n",
      " [ 318 1023]]\n",
      "              precision    recall  f1-score   support\n",
      "\n",
      "           0       0.76      0.73      0.75      1341\n",
      "           1       0.74      0.76      0.75      1341\n",
      "\n",
      "    accuracy                           0.75      2682\n",
      "   macro avg       0.75      0.75      0.75      2682\n",
      "weighted avg       0.75      0.75      0.75      2682\n",
      "\n",
      "Logistic Regression accuracy:  0.7486950037285608\n"
     ]
    },
    {
     "name": "stderr",
     "output_type": "stream",
     "text": [
      "C:\\Users\\Admin\\anaconda3\\lib\\site-packages\\sklearn\\base.py:443: UserWarning: X has feature names, but LogisticRegression was fitted without feature names\n",
      "  warnings.warn(\n"
     ]
    }
   ],
   "source": [
    "classifier = LogisticRegression()\n",
    "classifier.fit(X_train_under.values, y_train_under.values.ravel())\n",
    "\n",
    "y_pred_train_under = classifier.predict(X_train_under)\n",
    "print(confusion_matrix(y_train_under,y_pred_train_under))\n",
    "print(classification_report(y_train_under,y_pred_train_under))\n",
    "print('Logistic Regression accuracy: ', accuracy_score(y_train_under, y_pred_train_under))"
   ]
  },
  {
   "cell_type": "code",
   "execution_count": null,
   "id": "58f1809d",
   "metadata": {},
   "outputs": [],
   "source": []
  },
  {
   "cell_type": "code",
   "execution_count": null,
   "id": "d3ba3cd4",
   "metadata": {},
   "outputs": [],
   "source": [
    "`"
   ]
  }
 ],
 "metadata": {
  "kernelspec": {
   "display_name": "Python 3 (ipykernel)",
   "language": "python",
   "name": "python3"
  },
  "language_info": {
   "codemirror_mode": {
    "name": "ipython",
    "version": 3
   },
   "file_extension": ".py",
   "mimetype": "text/x-python",
   "name": "python",
   "nbconvert_exporter": "python",
   "pygments_lexer": "ipython3",
   "version": "3.9.13"
  }
 },
 "nbformat": 4,
 "nbformat_minor": 5
}
